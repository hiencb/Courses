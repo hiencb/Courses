{
 "cells": [
  {
   "cell_type": "markdown",
   "metadata": {},
   "source": [
    "# Custom Sources - Example: Remove Stopwords"
   ]
  },
  {
   "cell_type": "code",
   "execution_count": 4,
   "metadata": {
    "collapsed": true
   },
   "outputs": [],
   "source": [
    "import nltk"
   ]
  },
  {
   "cell_type": "code",
   "execution_count": 5,
   "metadata": {
    "collapsed": false
   },
   "outputs": [],
   "source": [
    "alice = nltk.corpus.gutenberg.words(\"carroll-alice.txt\")"
   ]
  },
  {
   "cell_type": "code",
   "execution_count": 6,
   "metadata": {
    "collapsed": false
   },
   "outputs": [],
   "source": [
    "alice_fd = nltk.FreqDist(alice)"
   ]
  },
  {
   "cell_type": "code",
   "execution_count": 7,
   "metadata": {
    "collapsed": false
   },
   "outputs": [],
   "source": [
    "alice_100 = alice_fd.most_common(100)\n",
    "alice_common = [word[0] for word in alice_100]\n",
    "common = set(word.lower() for word in alice_common if word.isalpha())"
   ]
  },
  {
   "cell_type": "code",
   "execution_count": 7,
   "metadata": {
    "collapsed": false
   },
   "outputs": [
    {
     "data": {
      "text/plain": [
       "{u'a',\n",
       " u'about',\n",
       " u'again',\n",
       " u'alice',\n",
       " u'all',\n",
       " u'an',\n",
       " u'and',\n",
       " u'as',\n",
       " u'at',\n",
       " u'be',\n",
       " u'began',\n",
       " u'but',\n",
       " u'by',\n",
       " u'can',\n",
       " u'could',\n",
       " u'did',\n",
       " u'do',\n",
       " u'don',\n",
       " u'down',\n",
       " u'for',\n",
       " u'gryphon',\n",
       " u'had',\n",
       " u'hatter',\n",
       " u'have',\n",
       " u'he',\n",
       " u'her',\n",
       " u'herself',\n",
       " u'his',\n",
       " u'i',\n",
       " u'if',\n",
       " u'in',\n",
       " u'into',\n",
       " u'is',\n",
       " u'it',\n",
       " u'its',\n",
       " u'king',\n",
       " u'know',\n",
       " u'like',\n",
       " u'little',\n",
       " u'll',\n",
       " u'm',\n",
       " u'me',\n",
       " u'mock',\n",
       " u'much',\n",
       " u'my',\n",
       " u'no',\n",
       " u'not',\n",
       " u'of',\n",
       " u'off',\n",
       " u'on',\n",
       " u'one',\n",
       " u'or',\n",
       " u'out',\n",
       " u'queen',\n",
       " u'quite',\n",
       " u's',\n",
       " u'said',\n",
       " u'see',\n",
       " u'she',\n",
       " u'so',\n",
       " u't',\n",
       " u'that',\n",
       " u'the',\n",
       " u'them',\n",
       " u'then',\n",
       " u'there',\n",
       " u'they',\n",
       " u'this',\n",
       " u'thought',\n",
       " u'time',\n",
       " u'to',\n",
       " u'turtle',\n",
       " u'up',\n",
       " u'very',\n",
       " u'was',\n",
       " u'way',\n",
       " u'went',\n",
       " u'were',\n",
       " u'what',\n",
       " u'when',\n",
       " u'with',\n",
       " u'would',\n",
       " u'you',\n",
       " u'your'}"
      ]
     },
     "execution_count": 7,
     "metadata": {},
     "output_type": "execute_result"
    }
   ],
   "source": [
    "common"
   ]
  },
  {
   "cell_type": "code",
   "execution_count": 8,
   "metadata": {
    "collapsed": false
   },
   "outputs": [],
   "source": [
    "descriptive = list(set(common) - set(nltk.corpus.stopwords.words(\"english\")))"
   ]
  },
  {
   "cell_type": "code",
   "execution_count": 10,
   "metadata": {
    "collapsed": false
   },
   "outputs": [
    {
     "data": {
      "text/plain": [
       "[u'turtle',\n",
       " u'queen',\n",
       " u'one',\n",
       " u'see',\n",
       " u'thought',\n",
       " u'little',\n",
       " u'said',\n",
       " u'would',\n",
       " u'll',\n",
       " u'much',\n",
       " u'way',\n",
       " u'mock',\n",
       " u'hatter',\n",
       " u'quite',\n",
       " u'know',\n",
       " u'king',\n",
       " u'like',\n",
       " u'could',\n",
       " u'm',\n",
       " u'alice',\n",
       " u'gryphon',\n",
       " u'time',\n",
       " u'went',\n",
       " u'began']"
      ]
     },
     "execution_count": 10,
     "metadata": {},
     "output_type": "execute_result"
    }
   ],
   "source": [
    "descriptive"
   ]
  }
 ],
 "metadata": {
  "kernelspec": {
   "display_name": "Python 2",
   "language": "python",
   "name": "python2"
  },
  "language_info": {
   "codemirror_mode": {
    "name": "ipython",
    "version": 2
   },
   "file_extension": ".py",
   "mimetype": "text/x-python",
   "name": "python",
   "nbconvert_exporter": "python",
   "pygments_lexer": "ipython2",
   "version": "2.7.10"
  }
 },
 "nbformat": 4,
 "nbformat_minor": 0
}

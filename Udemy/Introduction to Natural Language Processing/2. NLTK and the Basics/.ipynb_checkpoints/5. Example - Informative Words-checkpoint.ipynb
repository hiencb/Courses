{
 "cells": [
  {
   "cell_type": "markdown",
   "metadata": {},
   "source": [
    "# NLTK and the Basics - Example: Informative Words"
   ]
  },
  {
   "cell_type": "code",
   "execution_count": 3,
   "metadata": {
    "collapsed": true
   },
   "outputs": [],
   "source": [
    "import nltk"
   ]
  },
  {
   "cell_type": "code",
   "execution_count": 4,
   "metadata": {
    "collapsed": true
   },
   "outputs": [],
   "source": [
    "alice = nltk.corpus.gutenberg.words(\"carroll-alice.txt\")"
   ]
  },
  {
   "cell_type": "code",
   "execution_count": 5,
   "metadata": {
    "collapsed": true
   },
   "outputs": [],
   "source": [
    "alice_fd = nltk.FreqDist(alice)"
   ]
  },
  {
   "cell_type": "markdown",
   "metadata": {},
   "source": [
    "Find the 100 most common words."
   ]
  },
  {
   "cell_type": "code",
   "execution_count": 6,
   "metadata": {
    "collapsed": true
   },
   "outputs": [],
   "source": [
    "alice_fd_100 = alice_fd.most_common(100)"
   ]
  },
  {
   "cell_type": "code",
   "execution_count": 7,
   "metadata": {
    "collapsed": false
   },
   "outputs": [],
   "source": [
    "moby = nltk.corpus.gutenberg.words(\"melville-moby_dick.txt\")\n",
    "moby_fd = nltk.FreqDist(moby)\n",
    "moby_fd_100 = moby_fd.most_common(100)"
   ]
  },
  {
   "cell_type": "markdown",
   "metadata": {},
   "source": [
    "We no longer care exactly how many times each word was seen and can drop the count."
   ]
  },
  {
   "cell_type": "code",
   "execution_count": 8,
   "metadata": {
    "collapsed": true
   },
   "outputs": [],
   "source": [
    "alice_100  = [word[0] for word in alice_fd_100]\n",
    "moby_100 = [word[0] for word in moby_fd_100]"
   ]
  },
  {
   "cell_type": "markdown",
   "metadata": {},
   "source": [
    "Two sets can be subtracted from one another leaving us with the difference."
   ]
  },
  {
   "cell_type": "code",
   "execution_count": 9,
   "metadata": {
    "collapsed": false
   },
   "outputs": [
    {
     "data": {
      "text/plain": [
       "[u\"!'\",\n",
       " u'can',\n",
       " u'see',\n",
       " u'your',\n",
       " u'Mock',\n",
       " u\",'\",\n",
       " u'little',\n",
       " u'said',\n",
       " u'll',\n",
       " u'*',\n",
       " u'Hatter',\n",
       " u\".'\",\n",
       " u'much',\n",
       " u'way',\n",
       " u':',\n",
       " u't',\n",
       " u'King',\n",
       " u'do',\n",
       " u'again',\n",
       " u'Alice',\n",
       " u'quite',\n",
       " u'Gryphon',\n",
       " u'know',\n",
       " u\"?'\",\n",
       " u'off',\n",
       " u'herself',\n",
       " u'Turtle',\n",
       " u'don',\n",
       " u'did',\n",
       " u'could',\n",
       " u'Queen',\n",
       " u'm',\n",
       " u'thought',\n",
       " u'she',\n",
       " u'went',\n",
       " u'began']"
      ]
     },
     "execution_count": 9,
     "metadata": {},
     "output_type": "execute_result"
    }
   ],
   "source": [
    "list(set(alice_100) - set(moby_100))"
   ]
  },
  {
   "cell_type": "code",
   "execution_count": 10,
   "metadata": {
    "collapsed": false
   },
   "outputs": [
    {
     "data": {
      "text/plain": [
       "[u'!\"',\n",
       " u'old',\n",
       " u'over',\n",
       " u'some',\n",
       " u'head',\n",
       " u'been',\n",
       " u'sea',\n",
       " u'ship',\n",
       " u'any',\n",
       " u'boat',\n",
       " u'\"',\n",
       " u'from',\n",
       " u'.\"',\n",
       " u'But',\n",
       " u'than',\n",
       " u'their',\n",
       " u'only',\n",
       " u'other',\n",
       " u'which',\n",
       " u'?',\n",
       " u'more',\n",
       " u'we',\n",
       " u'Ahab',\n",
       " u'though',\n",
       " u'upon',\n",
       " u'who',\n",
       " u'ye',\n",
       " u'long',\n",
       " u'such',\n",
       " u'whale',\n",
       " u'now',\n",
       " u'him',\n",
       " u'man',\n",
       " u'these',\n",
       " u'will',\n",
       " u'are']"
      ]
     },
     "execution_count": 10,
     "metadata": {},
     "output_type": "execute_result"
    }
   ],
   "source": [
    "list(set(moby_100) - set(alice_100))"
   ]
  }
 ],
 "metadata": {
  "kernelspec": {
   "display_name": "Python 2",
   "language": "python",
   "name": "python2"
  },
  "language_info": {
   "codemirror_mode": {
    "name": "ipython",
    "version": 2
   },
   "file_extension": ".py",
   "mimetype": "text/x-python",
   "name": "python",
   "nbconvert_exporter": "python",
   "pygments_lexer": "ipython2",
   "version": "2.7.10"
  }
 },
 "nbformat": 4,
 "nbformat_minor": 0
}

{
 "cells": [
  {
   "cell_type": "markdown",
   "metadata": {},
   "source": [
    "# NLTK and the Basics - Conditional Frequency Distribution"
   ]
  },
  {
   "cell_type": "code",
   "execution_count": 1,
   "metadata": {
    "collapsed": true
   },
   "outputs": [],
   "source": [
    "import nltk"
   ]
  },
  {
   "cell_type": "markdown",
   "metadata": {},
   "source": [
    "A conditional frequency distribution counts multiple cases or conditions. "
   ]
  },
  {
   "cell_type": "code",
   "execution_count": 5,
   "metadata": {
    "collapsed": false
   },
   "outputs": [],
   "source": [
    "names = [(\"Group A\", \"Paul\"),(\"Group A\", \"Mike\"),(\"Group A\", \"Katy\"),(\"Group B\", \"Amy\"),(\"Group B\", \"Joe\"),(\"Group B\", \"Amy\")]"
   ]
  },
  {
   "cell_type": "code",
   "execution_count": 6,
   "metadata": {
    "collapsed": false
   },
   "outputs": [
    {
     "data": {
      "text/plain": [
       "[('Group A', 'Paul'),\n",
       " ('Group A', 'Mike'),\n",
       " ('Group A', 'Katy'),\n",
       " ('Group B', 'Amy'),\n",
       " ('Group B', 'Joe'),\n",
       " ('Group B', 'Amy')]"
      ]
     },
     "execution_count": 6,
     "metadata": {},
     "output_type": "execute_result"
    }
   ],
   "source": [
    "names"
   ]
  },
  {
   "cell_type": "markdown",
   "metadata": {},
   "source": [
    "Running a regular frequency distribution on the list..."
   ]
  },
  {
   "cell_type": "code",
   "execution_count": 7,
   "metadata": {
    "collapsed": false
   },
   "outputs": [
    {
     "data": {
      "text/plain": [
       "Counter({('Group A', 'Katy'): 1,\n",
       "         ('Group A', 'Mike'): 1,\n",
       "         ('Group A', 'Paul'): 1,\n",
       "         ('Group B', 'Amy'): 2,\n",
       "         ('Group B', 'Joe'): 1})"
      ]
     },
     "execution_count": 7,
     "metadata": {},
     "output_type": "execute_result"
    }
   ],
   "source": [
    "nltk.FreqDist(names)"
   ]
  },
  {
   "cell_type": "markdown",
   "metadata": {},
   "source": [
    "Running a conditional frequency distribution on the list..."
   ]
  },
  {
   "cell_type": "code",
   "execution_count": 8,
   "metadata": {
    "collapsed": false
   },
   "outputs": [
    {
     "data": {
      "text/plain": [
       "defaultdict(nltk.probability.FreqDist,\n",
       "            {'Group A': Counter({'Katy': 1, 'Mike': 1, 'Paul': 1}),\n",
       "             'Group B': Counter({'Amy': 2, 'Joe': 1})})"
      ]
     },
     "execution_count": 8,
     "metadata": {},
     "output_type": "execute_result"
    }
   ],
   "source": [
    "nltk.ConditionalFreqDist(names)"
   ]
  }
 ],
 "metadata": {
  "kernelspec": {
   "display_name": "Python 2",
   "language": "python",
   "name": "python2"
  },
  "language_info": {
   "codemirror_mode": {
    "name": "ipython",
    "version": 2
   },
   "file_extension": ".py",
   "mimetype": "text/x-python",
   "name": "python",
   "nbconvert_exporter": "python",
   "pygments_lexer": "ipython2",
   "version": "2.7.10"
  }
 },
 "nbformat": 4,
 "nbformat_minor": 0
}

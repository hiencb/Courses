{
 "cells": [
  {
   "cell_type": "markdown",
   "metadata": {},
   "source": [
    "# Tokenization, Tagging, Chunking - Example: Choices"
   ]
  },
  {
   "cell_type": "code",
   "execution_count": 1,
   "metadata": {
    "collapsed": true
   },
   "outputs": [],
   "source": [
    "import nltk"
   ]
  },
  {
   "cell_type": "markdown",
   "metadata": {},
   "source": [
    "Finding all the cases in a given text where there was a choice between two options, \"NOUN 'or' NOUN\"."
   ]
  },
  {
   "cell_type": "code",
   "execution_count": 2,
   "metadata": {
    "collapsed": false
   },
   "outputs": [],
   "source": [
    "stories = nltk.corpus.gutenberg.words(\"bryant-stories.txt\")\n",
    "tags = nltk.pos_tag(stories, tagset=\"universal\")"
   ]
  },
  {
   "cell_type": "code",
   "execution_count": 3,
   "metadata": {
    "collapsed": false
   },
   "outputs": [
    {
     "data": {
      "text/plain": [
       "[(u'[', u'NOUN'),\n",
       " (u'Stories', u'NOUN'),\n",
       " (u'to', u'PRT'),\n",
       " (u'Tell', u'VERB'),\n",
       " (u'to', u'PRT'),\n",
       " (u'Children', u'NOUN'),\n",
       " (u'by', u'ADP'),\n",
       " (u'Sara', u'NOUN'),\n",
       " (u'Cone', u'NOUN'),\n",
       " (u'Bryant', u'NOUN')]"
      ]
     },
     "execution_count": 3,
     "metadata": {},
     "output_type": "execute_result"
    }
   ],
   "source": [
    "tags[:10]"
   ]
  },
  {
   "cell_type": "code",
   "execution_count": 4,
   "metadata": {
    "collapsed": false
   },
   "outputs": [
    {
     "name": "stdout",
     "output_type": "stream",
     "text": [
      "ship or part\n",
      "food or water\n",
      "queens or princesses\n",
      "rank or wealth\n"
     ]
    }
   ],
   "source": [
    "for ((word1,tag1),(word2,tag2),(word3,tag3)) in nltk.trigrams(tags):\n",
    "    if tag1 ==  \"NOUN\" and word2 == \"or\" and tag3 == \"NOUN\":\n",
    "        print word1 + \" \" + word2 + \" \" + word3"
   ]
  }
 ],
 "metadata": {
  "kernelspec": {
   "display_name": "Python 2",
   "language": "python",
   "name": "python2"
  },
  "language_info": {
   "codemirror_mode": {
    "name": "ipython",
    "version": 2
   },
   "file_extension": ".py",
   "mimetype": "text/x-python",
   "name": "python",
   "nbconvert_exporter": "python",
   "pygments_lexer": "ipython2",
   "version": "2.7.10"
  }
 },
 "nbformat": 4,
 "nbformat_minor": 0
}

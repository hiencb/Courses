{
 "cells": [
  {
   "cell_type": "markdown",
   "metadata": {},
   "source": [
    "<a href=\"https://www.bigdatauniversity.com\"><img src = \"https://ibm.box.com/shared/static/jvcqp2iy2jlx2b32rmzdt0tx8lvxgzkp.png\" width = 300, align = \"center\"></a>\n",
    "\n",
    "<h1 align=center><font size = 5> LINEAR REGRESSION WITH TENSORFLOW</font></h1>"
   ]
  },
  {
   "cell_type": "markdown",
   "metadata": {},
   "source": [
    "<div class=\"alert alert-block alert-info\" style=\"margin-top: 20px\">\n",
    "<font size = 3><strong>In this notebook we will overview the implementation of Linear Regression with TensorFlow</strong></font>\n",
    "<br>\n",
    "- <p><a href=\"#ref1\">Linear Regression</a></p>\n",
    "- <p><a href=\"#ref2\">Linear Regression with TensorFlow</a></p>\n",
    "- <p><a href=\"#ref3\">Practice Exercises</a></p>\n",
    "<p></p>\n",
    "</div>\n",
    "<br>\n",
    "\n",
    "----------------"
   ]
  },
  {
   "cell_type": "markdown",
   "metadata": {},
   "source": [
    "<a id=\"ref1\"></a>\n",
    "# Linear Regression\n",
    "\n",
    "Defining a linear regression in simple terms, its the approximation of a linear model used to describe the relationship betweeen two or more variables. In a simple linear regression there are two variables, the dependent variable, which can be seen as the \"state\" or \"final goal\" we study and try to predict, and the independent variables, also known as explanatory variables, which can be seen as the \"causes\" of the \"states\". \n",
    "\n",
    "When more than one independent variable is present the process is called multiple linear regression. When multiple dependent variables are predicted the process is known as multivariate linear regression.\n",
    "\n",
    "The very known equation of a simple linear model is\n",
    "\n",
    "$$Y = a X + b $$\n",
    "\n",
    "Where Y is the dependent variable and X is the independent variable, and <b>a</b> and <b>b</b> being the parameters we adjust. <b> a </b> is known as \"slope\" or \"gradient\" and <b> b </b> as \"intercept\". You can interpret this equation as Y being a function of X, or Y being dependent of X.\n",
    "\n",
    "If you plot the model, you will see it is a line, and by adjusting the \"slope\" parameter you will change the angle between the line and the independent variable axis, and the \"intercept parameter\" will affect where it crosses the dependent variable axis.\n",
    "\n",
    "Let's first import packages:"
   ]
  },
  {
   "cell_type": "code",
   "execution_count": 4,
   "metadata": {},
   "outputs": [],
   "source": [
    "import numpy as np\n",
    "import tensorflow as tf\n",
    "import matplotlib.patches as mpatches\n",
    "import matplotlib.pyplot as plt\n",
    "import seaborn\n",
    "%matplotlib inline\n",
    "plt.rcParams['figure.figsize'] = (10, 6)"
   ]
  },
  {
   "cell_type": "markdown",
   "metadata": {},
   "source": [
    "Let's define an independent variable:"
   ]
  },
  {
   "cell_type": "code",
   "execution_count": 12,
   "metadata": {},
   "outputs": [
    {
     "data": {
      "text/plain": [
       "array([-15.        , -14.96996997, -14.93993994, -14.90990991,\n",
       "       -14.87987988, -14.84984985])"
      ]
     },
     "execution_count": 12,
     "metadata": {},
     "output_type": "execute_result"
    }
   ],
   "source": [
    "X = np.linspace(-15, 15, 1000)\n",
    "X[0: 6]"
   ]
  },
  {
   "cell_type": "code",
   "execution_count": 21,
   "metadata": {},
   "outputs": [
    {
     "data": {
      "image/png": "[encoded data removed]",
      "text/plain": [
       "<matplotlib.figure.Figure at 0x113ce6400>"
      ]
     },
     "metadata": {},
     "output_type": "display_data"
    }
   ],
   "source": [
    "##You can adjust the slope and intercept to verify the changes in the graph\n",
    "a = 4.7\n",
    "b = -2.05\n",
    "\n",
    "Y = a * X + b\n",
    "Y = np.vectorize(lambda y: y + np.random.normal(loc=0, scale=3))(Y)\n",
    "\n",
    "plt.scatter(X, Y, s=2, alpha=1)\n",
    "plt.ylabel('Dependent Variable')\n",
    "plt.xlabel('Indepdendent Variable')\n",
    "plt.show()"
   ]
  },
  {
   "cell_type": "markdown",
   "metadata": {},
   "source": [
    "OK... but how can we see this concept of linear relations with a more meaningful point of view?\n",
    "\n",
    "Simple linear relations were used to try to describe and quantify many observable physical phenomena, the easiest to understand are speed and distance traveled:"
   ]
  },
  {
   "cell_type": "markdown",
   "metadata": {},
   "source": [
    "<b><pre>\n",
    "\n",
    "Distance Traveled = Speed * Time + Initial Distance\n",
    "\n",
    "Speed = Acceleration * Time + Initial Speed\n",
    "</pre></b>"
   ]
  },
  {
   "cell_type": "markdown",
   "metadata": {},
   "source": [
    "They are also used to describe properties of different materials:"
   ]
  },
  {
   "cell_type": "markdown",
   "metadata": {},
   "source": [
    "<b><pre>\n",
    "\n",
    "Force = Deformation * Stiffness \n",
    "\n",
    "Heat Transfered = Temperature Difference * Thermal Conductivity \n",
    "\n",
    "Electrical Tension (Voltage) = Electrical Current * Resistance\n",
    "\n",
    "Mass =  Volume * Density\n",
    "</pre></b>"
   ]
  },
  {
   "cell_type": "markdown",
   "metadata": {},
   "source": [
    "When we perform an experiment and gather the data, or if we already have a dataset and we want to perform a linear regression, what we will do is adjust a simple linear model to the dataset, we adjust the \"slope\" and \"intercept\" parameters to the data the best way possible, because the closer the model comes to describing each ocurrence, the better it will be at representing them.\n",
    "\n",
    "So how is this \"regression\" performed?"
   ]
  },
  {
   "cell_type": "markdown",
   "metadata": {},
   "source": [
    "---------------"
   ]
  },
  {
   "cell_type": "markdown",
   "metadata": {},
   "source": [
    "<a id=\"ref2\"></a>\n",
    "# Linear Regression with TensorFlow\n",
    "<h6>A simple example of a linear function can help us understand the basic mechanism behind TensorFlow. </h6>\n",
    "\n",
    "For the first part we will generate random data points and define a linear relation, we'll use TensorFlow to adjust and get the right parameters.\n"
   ]
  },
  {
   "cell_type": "code",
   "execution_count": 41,
   "metadata": {},
   "outputs": [],
   "source": [
    "np.random?"
   ]
  },
  {
   "cell_type": "code",
   "execution_count": 177,
   "metadata": {},
   "outputs": [
    {
     "data": {
      "text/plain": [
       "(1000,)"
      ]
     },
     "execution_count": 177,
     "metadata": {},
     "output_type": "execute_result"
    }
   ],
   "source": [
    "x_data = np.linspace(-5, 5, 1000, dtype=np.float64)\n",
    "x_data.shape"
   ]
  },
  {
   "cell_type": "markdown",
   "metadata": {},
   "source": [
    "The equation for the model used in this example is :\n",
    "\n",
    "$$Y = 3 X + 2 $$\n",
    "\n",
    "\n",
    "Nothing special about this equation, it is just a model that we use to generate our data points. In fact, you can change the parameters to whatever you want, as you will do later. We add some gaussian noise to the points to make it a bit more interesting."
   ]
  },
  {
   "cell_type": "code",
   "execution_count": 178,
   "metadata": {},
   "outputs": [],
   "source": [
    "y_data = x_data * 3 + 2\n",
    "y_data = np.vectorize(lambda y: y + np.random.normal(loc=0.0, scale=0.2))(y_data)"
   ]
  },
  {
   "cell_type": "markdown",
   "metadata": {},
   "source": [
    "Here is a sample of data:"
   ]
  },
  {
   "cell_type": "code",
   "execution_count": 179,
   "metadata": {
    "scrolled": true
   },
   "outputs": [
    {
     "data": {
      "text/plain": [
       "[(-5.0, -12.688667590196047),\n",
       " (-4.98998998998999, -13.123884406564182),\n",
       " (-4.97997997997998, -12.977168060898764),\n",
       " (-4.96996996996997, -12.899851654133336),\n",
       " (-4.95995995995996, -12.921543965500836)]"
      ]
     },
     "execution_count": 179,
     "metadata": {},
     "output_type": "execute_result"
    }
   ],
   "source": [
    "list(zip(x_data,y_data))[0:5]"
   ]
  },
  {
   "cell_type": "code",
   "execution_count": 180,
   "metadata": {},
   "outputs": [
    {
     "data": {
      "text/plain": [
       "<matplotlib.text.Text at 0x115a5f0b8>"
      ]
     },
     "execution_count": 180,
     "metadata": {},
     "output_type": "execute_result"
    },
    {
     "data": {
      "image/png": "[encoded data removed]",
      "text/plain": [
       "<matplotlib.figure.Figure at 0x116ebaa58>"
      ]
     },
     "metadata": {},
     "output_type": "display_data"
    }
   ],
   "source": [
    "plt.scatter(x_data, y_data, s=2)\n",
    "plt.xlabel('X')\n",
    "plt.ylabel('Y')"
   ]
  },
  {
   "cell_type": "markdown",
   "metadata": {},
   "source": [
    "First, we initialize the variables __a__ and __b__, with any random guess, and then we define the linear function:"
   ]
  },
  {
   "cell_type": "code",
   "execution_count": 181,
   "metadata": {},
   "outputs": [],
   "source": [
    "a = tf.Variable(1.0)\n",
    "b = tf.Variable(0.2)\n",
    "y = a * x_data + b"
   ]
  },
  {
   "cell_type": "markdown",
   "metadata": {},
   "source": [
    "In a linear regression, we minimize the squared error of the equation that we want to adjust minus the target values (the data that we have), so we define the equation to be minimized as loss.\n",
    "\n",
    "To find Loss's value, we use __tf.reduce_mean()__. This function finds the mean of a multidimensional tensor, and the result can have a diferent dimension."
   ]
  },
  {
   "cell_type": "code",
   "execution_count": 182,
   "metadata": {},
   "outputs": [],
   "source": [
    "loss = tf.reduce_mean(tf.square(y - y_data))"
   ]
  },
  {
   "cell_type": "markdown",
   "metadata": {},
   "source": [
    "Then, we define the optimizer method. Here we will use a simple gradient descent with a learning rate of 0.5: <br/>  \n",
    "Now we will define the training method of our graph, what method we will use for minimize the loss? We will use the tf.train.GradientDescentOptimizer.  \n",
    ".minimize()__ will minimize the error function of our optimizer, resulting in a better model."
   ]
  },
  {
   "cell_type": "code",
   "execution_count": 183,
   "metadata": {},
   "outputs": [],
   "source": [
    "optimizer = tf.train.GradientDescentOptimizer(0.0001)\n",
    "train = optimizer.minimize(loss)"
   ]
  },
  {
   "cell_type": "markdown",
   "metadata": {},
   "source": [
    "Don't forget to initialize the variables before executing a graph:"
   ]
  },
  {
   "cell_type": "code",
   "execution_count": 184,
   "metadata": {
    "collapsed": true
   },
   "outputs": [],
   "source": [
    "init = tf.global_variables_initializer()\n",
    "sess = tf.Session()\n",
    "sess.run(init)"
   ]
  },
  {
   "cell_type": "markdown",
   "metadata": {},
   "source": [
    "Now we are ready to start the optimization and run the graph:"
   ]
  },
  {
   "cell_type": "code",
   "execution_count": 185,
   "metadata": {},
   "outputs": [
    {
     "name": "stdout",
     "output_type": "stream",
     "text": [
      "0 [1.0033416, 0.20035787] 1.00334 0.200358 36.5566\n",
      "600 [2.2681174, 0.4026742] 2.26812 0.402674 7.03898\n",
      "1200 [2.732084, 0.58211046] 2.73208 0.58211 2.6215\n",
      "1800 [2.9022827, 0.74125421] 2.90228 0.741254 1.67676\n",
      "2400 [2.9647193, 0.88240021] 2.96472 0.8824 1.27409\n",
      "3000 [2.987623, 1.0075839] 2.98762 1.00758 1.00316\n",
      "3600 [2.9960244, 1.1186111] 2.99602 1.11861 0.796216\n",
      "4200 [2.9991071, 1.2170815] 2.99911 1.21708 0.63426\n",
      "4800 [3.0002375, 1.3044162] 3.00024 1.30442 0.506974\n",
      "5400 [3.0006504, 1.3818738] 3.00065 1.38187 0.406866\n",
      "6000 [3.0008075, 1.4505721] 3.00081 1.45057 0.328121\n",
      "6600 [3.0008211, 1.5115013] 3.00082 1.5115 0.26618\n",
      "7200 [3.0008211, 1.5655396] 3.00082 1.56554 0.217458\n",
      "7800 [3.0008211, 1.6134672] 3.00082 1.61347 0.179131\n",
      "8400 [3.0008211, 1.6559746] 3.00082 1.65597 0.148983\n",
      "9000 [3.0008211, 1.6936755] 3.00082 1.69368 0.125268\n",
      "9600 [3.0008211, 1.7271122] 3.00082 1.72711 0.106615\n",
      "10200 [3.0008211, 1.7567674] 3.00082 1.75677 0.0919412\n",
      "10800 [3.0008211, 1.7830687] 3.00082 1.78307 0.0803991\n",
      "11400 [3.0008211, 1.806396] 3.00082 1.8064 0.0713198\n",
      "12000 [3.0008211, 1.8270848] 3.00082 1.82708 0.0641781\n",
      "12600 [3.0008211, 1.845434] 3.00082 1.84543 0.0585603\n",
      "13200 [3.0008211, 1.8617083] 3.00082 1.86171 0.0541412\n",
      "13800 [3.0008211, 1.8761421] 3.00082 1.87614 0.0506651\n",
      "14400 [3.0008211, 1.8889438] 3.00082 1.88894 0.0479309\n",
      "15000 [3.0008211, 1.9002973] 3.00082 1.9003 0.0457801\n",
      "15600 [3.0008211, 1.9103673] 3.00082 1.91037 0.0440882\n",
      "16200 [3.0008211, 1.9192983] 3.00082 1.9193 0.0427574\n",
      "16800 [3.0008211, 1.9272187] 3.00082 1.92722 0.0417106\n",
      "17400 [3.0008211, 1.9342443] 3.00082 1.93424 0.0408871\n",
      "18000 [3.0008211, 1.9404743] 3.00082 1.94047 0.0402394\n",
      "18600 [3.0008211, 1.9460005] 3.00082 1.946 0.0397299\n",
      "19200 [3.0008211, 1.9509022] 3.00082 1.9509 0.039329\n",
      "19800 [3.0008211, 1.9552482] 3.00082 1.95525 0.0390138\n",
      "20400 [3.0008211, 1.9591037] 3.00082 1.9591 0.0387658\n",
      "21000 [3.0008211, 1.9625225] 3.00082 1.96252 0.0385708\n",
      "21600 [3.0008211, 1.9655551] 3.00082 1.96556 0.0384173\n",
      "22200 [3.0008211, 1.9682459] 3.00082 1.96825 0.0382966\n",
      "22800 [3.0008211, 1.9706311] 3.00082 1.97063 0.0382016\n",
      "23400 [3.0008211, 1.9727454] 3.00082 1.97275 0.038127\n",
      "24000 [3.0008211, 1.9746225] 3.00082 1.97462 0.0380682\n",
      "24600 [3.0008211, 1.9762855] 3.00082 1.97629 0.0380221\n",
      "25200 [3.0008211, 1.9777637] 3.00082 1.97776 0.0379857\n",
      "25800 [3.0008211, 1.9790705] 3.00082 1.97907 0.0379571\n",
      "26400 [3.0008211, 1.9802318] 3.00082 1.98023 0.0379346\n",
      "27000 [3.0008211, 1.9812641] 3.00082 1.98126 0.0379169\n",
      "27600 [3.0008211, 1.9821724] 3.00082 1.98217 0.037903\n",
      "28200 [3.0008211, 1.9829853] 3.00082 1.98299 0.037892\n",
      "28800 [3.0008211, 1.983706] 3.00082 1.98371 0.0378834\n",
      "29400 [3.0008211, 1.9843413] 3.00082 1.98434 0.0378766\n",
      "30000 [3.0008211, 1.9849079] 3.00082 1.98491 0.0378713\n",
      "30600 [3.0008211, 1.9854085] 3.00082 1.98541 0.0378671\n",
      "31200 [3.0008211, 1.9858458] 3.00082 1.98585 0.0378639\n",
      "31800 [3.0008211, 1.9862393] 3.00082 1.98624 0.0378613\n",
      "32400 [3.0008211, 1.9865969] 3.00082 1.9866 0.0378592\n",
      "33000 [3.0008211, 1.9868951] 3.00082 1.9869 0.0378576\n",
      "33600 [3.0008211, 1.9871812] 3.00082 1.98718 0.0378563\n",
      "34200 [3.0008211, 1.9874136] 3.00082 1.98741 0.0378554\n",
      "34800 [3.0008211, 1.9876282] 3.00082 1.98763 0.0378546\n",
      "35400 [3.0008211, 1.9878428] 3.00082 1.98784 0.0378539\n",
      "36000 [3.0008211, 1.9879879] 3.00082 1.98799 0.0378535\n",
      "36600 [3.0008211, 1.9881309] 3.00082 1.98813 0.0378531\n",
      "37200 [3.0008211, 1.988274] 3.00082 1.98827 0.0378528\n",
      "37800 [3.0008211, 1.988417] 3.00082 1.98842 0.0378525\n",
      "38400 [3.0008211, 1.9885025] 3.00082 1.9885 0.0378524\n",
      "39000 [3.0008211, 1.988574] 3.00082 1.98857 0.0378523\n",
      "39600 [3.0008211, 1.9886456] 3.00082 1.98865 0.0378521\n",
      "40200 [3.0008211, 1.9887171] 3.00082 1.98872 0.037852\n",
      "40800 [3.0008211, 1.9887886] 3.00082 1.98879 0.037852\n",
      "41400 [3.0008211, 1.9888601] 3.00082 1.98886 0.0378519\n",
      "42000 [3.0008211, 1.9889317] 3.00082 1.98893 0.0378518\n",
      "42600 [3.0008211, 1.9890032] 3.00082 1.989 0.0378518\n",
      "43200 [3.0008211, 1.989041] 3.00082 1.98904 0.0378517\n",
      "43800 [3.0008211, 1.989041] 3.00082 1.98904 0.0378517\n",
      "44400 [3.0008211, 1.989041] 3.00082 1.98904 0.0378517\n",
      "45000 [3.0008211, 1.989041] 3.00082 1.98904 0.0378517\n",
      "45600 [3.0008211, 1.989041] 3.00082 1.98904 0.0378517\n",
      "46200 [3.0008211, 1.989041] 3.00082 1.98904 0.0378517\n",
      "46800 [3.0008211, 1.989041] 3.00082 1.98904 0.0378517\n",
      "47400 [3.0008211, 1.989041] 3.00082 1.98904 0.0378517\n",
      "48000 [3.0008211, 1.989041] 3.00082 1.98904 0.0378517\n",
      "48600 [3.0008211, 1.989041] 3.00082 1.98904 0.0378517\n",
      "49200 [3.0008211, 1.989041] 3.00082 1.98904 0.0378517\n",
      "49800 [3.0008211, 1.989041] 3.00082 1.98904 0.0378517\n",
      "50400 [3.0008211, 1.989041] 3.00082 1.98904 0.0378517\n",
      "51000 [3.0008211, 1.989041] 3.00082 1.98904 0.0378517\n",
      "51600 [3.0008211, 1.989041] 3.00082 1.98904 0.0378517\n",
      "52200 [3.0008211, 1.989041] 3.00082 1.98904 0.0378517\n",
      "52800 [3.0008211, 1.989041] 3.00082 1.98904 0.0378517\n",
      "53400 [3.0008211, 1.989041] 3.00082 1.98904 0.0378517\n",
      "54000 [3.0008211, 1.989041] 3.00082 1.98904 0.0378517\n",
      "54600 [3.0008211, 1.989041] 3.00082 1.98904 0.0378517\n",
      "55200 [3.0008211, 1.989041] 3.00082 1.98904 0.0378517\n",
      "55800 [3.0008211, 1.989041] 3.00082 1.98904 0.0378517\n",
      "56400 [3.0008211, 1.989041] 3.00082 1.98904 0.0378517\n",
      "57000 [3.0008211, 1.989041] 3.00082 1.98904 0.0378517\n",
      "57600 [3.0008211, 1.989041] 3.00082 1.98904 0.0378517\n",
      "58200 [3.0008211, 1.989041] 3.00082 1.98904 0.0378517\n",
      "58800 [3.0008211, 1.989041] 3.00082 1.98904 0.0378517\n",
      "59400 [3.0008211, 1.989041] 3.00082 1.98904 0.0378517\n"
     ]
    }
   ],
   "source": [
    "train_data = []\n",
    "for step in range(60000):\n",
    "    evals = sess.run([train, a, b])[1:]\n",
    "    if step % 1000 == 0:\n",
    "        print(step, evals, sess.run(a), sess.run(b), sess.run(loss))\n",
    "        train_data.append(evals)"
   ]
  },
  {
   "cell_type": "code",
   "execution_count": 186,
   "metadata": {
    "scrolled": true
   },
   "outputs": [
    {
     "data": {
      "image/png": "[encoded data removed]",
      "text/plain": [
       "<matplotlib.figure.Figure at 0x1173f5f98>"
      ]
     },
     "metadata": {},
     "output_type": "display_data"
    }
   ],
   "source": [
    "converter = plt.colors\n",
    "cr, cg, cb = (1.0, 1.0, 0.0)\n",
    "for f in train_data:\n",
    "    cb += 1.0 / len(train_data)\n",
    "    cg -= 1.0 / len(train_data)\n",
    "    if cb > 1.0: cb = 1.0\n",
    "    if cg < 0.0: cg = 0.0\n",
    "    [a, b] = f\n",
    "    f_y = np.vectorize(lambda x: a*x + b)(x_data)\n",
    "    line = plt.plot(x_data, f_y)\n",
    "    plt.setp(line, color=(cr,cg,cb))\n",
    "\n",
    "plt.plot(x_data, y_data, 'ro')\n",
    "\n",
    "\n",
    "green_line = mpatches.Patch(color='red', label='Data Points')\n",
    "\n",
    "plt.legend(handles=[green_line])\n",
    "\n",
    "plt.show()"
   ]
  },
  {
   "cell_type": "markdown",
   "metadata": {},
   "source": [
    "---------------"
   ]
  },
  {
   "cell_type": "markdown",
   "metadata": {},
   "source": [
    "### Thanks for completing this lesson!\n",
    "\n",
    "If you are familiar with some of these methods and concepts, this tutorial might have been boring for you, but it is important to get used to the TensorFlow mechanics, and feel familiar and comfortable using it, so you can build more complex algorithms in it.\n",
    "\n",
    "Created by <a href=\"https://ca.linkedin.com/in/rafaelblsilva\"> Rafael Belo Da Silva</a><br />\n",
    "Linear Regression plot by Hugo Sales Correa\n",
    "\n",
    "This tutorial was inspired by the documentation of TensorFlow : https://www.tensorflow.org/versions/r0.9/get_started/index.html <br>\n"
   ]
  }
 ],
 "metadata": {
  "kernelspec": {
   "display_name": "Python 3",
   "language": "python",
   "name": "python3"
  },
  "language_info": {
   "codemirror_mode": {
    "name": "ipython",
    "version": 3
   },
   "file_extension": ".py",
   "mimetype": "text/x-python",
   "name": "python",
   "nbconvert_exporter": "python",
   "pygments_lexer": "ipython3",
   "version": "3.5.2"
  },
  "widgets": {
   "state": {},
   "version": "1.1.2"
  }
 },
 "nbformat": 4,
 "nbformat_minor": 1
}

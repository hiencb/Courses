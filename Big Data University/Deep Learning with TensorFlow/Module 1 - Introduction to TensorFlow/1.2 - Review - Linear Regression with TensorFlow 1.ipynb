{
 "cells": [
  {
   "cell_type": "markdown",
   "metadata": {},
   "source": [
    "<a href=\"https://www.bigdatauniversity.com\"><img src = \"https://ibm.box.com/shared/static/jvcqp2iy2jlx2b32rmzdt0tx8lvxgzkp.png\" width = 300, align = \"center\"></a>\n",
    "\n",
    "<h1 align=center><font size = 5> LINEAR REGRESSION WITH TENSORFLOW</font></h1>"
   ]
  },
  {
   "cell_type": "markdown",
   "metadata": {},
   "source": [
    "<div class=\"alert alert-block alert-info\" style=\"margin-top: 20px\">\n",
    "<font size = 3><strong>In this notebook we will overview the implementation of Linear Regression with TensorFlow</strong></font>\n",
    "<br>\n",
    "- <p><a href=\"#ref1\">Linear Regression</a></p>\n",
    "- <p><a href=\"#ref2\">Linear Regression with TensorFlow</a></p>\n",
    "- <p><a href=\"#ref3\">Practice Exercises</a></p>\n",
    "<p></p>\n",
    "</div>\n",
    "<br>\n",
    "\n",
    "----------------"
   ]
  },
  {
   "cell_type": "markdown",
   "metadata": {},
   "source": [
    "<a id=\"ref1\"></a>\n",
    "# Linear Regression\n",
    "\n",
    "Defining a linear regression in simple terms, its the approximation of a linear model used to describe the relationship betweeen two or more variables. In a simple linear regression there are two variables, the dependent variable, which can be seen as the \"state\" or \"final goal\" we study and try to predict, and the independent variables, also known as explanatory variables, which can be seen as the \"causes\" of the \"states\". \n",
    "\n",
    "When more than one independent variable is present the process is called multiple linear regression. When multiple dependent variables are predicted the process is known as multivariate linear regression.\n",
    "\n",
    "The very known equation of a simple linear model is\n",
    "\n",
    "$$Y = a X + b $$\n",
    "\n",
    "Where Y is the dependent variable and X is the independent variable, and <b>a</b> and <b>b</b> being the parameters we adjust. <b> a </b> is known as \"slope\" or \"gradient\" and <b> b </b> as \"intercept\". You can interpret this equation as Y being a function of X, or Y being dependent of X.\n",
    "\n",
    "If you plot the model, you will see it is a line, and by adjusting the \"slope\" parameter you will change the angle between the line and the independent variable axis, and the \"intercept parameter\" will affect where it crosses the dependent variable axis.\n",
    "\n",
    "Let's first import packages:"
   ]
  },
  {
   "cell_type": "code",
   "execution_count": 1,
   "metadata": {
    "collapsed": true
   },
   "outputs": [],
   "source": [
    "import numpy as np\n",
    "import tensorflow as tf\n",
    "import matplotlib.patches as mpatches\n",
    "import matplotlib.pyplot as plt\n",
    "import seaborn\n",
    "%matplotlib inline\n",
    "plt.rcParams['figure.figsize'] = (10, 6)"
   ]
  },
  {
   "cell_type": "markdown",
   "metadata": {},
   "source": [
    "Let's define an independent variable:"
   ]
  },
  {
   "cell_type": "code",
   "execution_count": 2,
   "metadata": {},
   "outputs": [
    {
     "data": {
      "text/plain": [
       "array([-15.        , -14.96996997, -14.93993994, -14.90990991,\n",
       "       -14.87987988, -14.84984985])"
      ]
     },
     "execution_count": 2,
     "metadata": {},
     "output_type": "execute_result"
    }
   ],
   "source": [
    "X = np.linspace(-15, 15, 1000)\n",
    "X[0: 6]"
   ]
  },
  {
   "cell_type": "code",
   "execution_count": 3,
   "metadata": {},
   "outputs": [
    {
     "data": {
      "image/png": "[encoded data removed]",
      "text/plain": [
       "<matplotlib.figure.Figure at 0x106b4aa90>"
      ]
     },
     "metadata": {},
     "output_type": "display_data"
    }
   ],
   "source": [
    "##You can adjust the slope and intercept to verify the changes in the graph\n",
    "a = 4.7\n",
    "b = -2.05\n",
    "\n",
    "Y = a * X + b\n",
    "Y = np.vectorize(lambda y: y + np.random.normal(loc=0, scale=3))(Y)\n",
    "\n",
    "plt.scatter(X, Y, s=2, alpha=1)\n",
    "plt.ylabel('Dependent Variable')\n",
    "plt.xlabel('Indepdendent Variable')\n",
    "plt.show()"
   ]
  },
  {
   "cell_type": "markdown",
   "metadata": {},
   "source": [
    "OK... but how can we see this concept of linear relations with a more meaningful point of view?\n",
    "\n",
    "Simple linear relations were used to try to describe and quantify many observable physical phenomena, the easiest to understand are speed and distance traveled:"
   ]
  },
  {
   "cell_type": "markdown",
   "metadata": {},
   "source": [
    "<b><pre>\n",
    "\n",
    "Distance Traveled = Speed * Time + Initial Distance\n",
    "\n",
    "Speed = Acceleration * Time + Initial Speed\n",
    "</pre></b>"
   ]
  },
  {
   "cell_type": "markdown",
   "metadata": {},
   "source": [
    "They are also used to describe properties of different materials:"
   ]
  },
  {
   "cell_type": "markdown",
   "metadata": {},
   "source": [
    "<b><pre>\n",
    "\n",
    "Force = Deformation * Stiffness \n",
    "\n",
    "Heat Transfered = Temperature Difference * Thermal Conductivity \n",
    "\n",
    "Electrical Tension (Voltage) = Electrical Current * Resistance\n",
    "\n",
    "Mass =  Volume * Density\n",
    "</pre></b>"
   ]
  },
  {
   "cell_type": "markdown",
   "metadata": {},
   "source": [
    "When we perform an experiment and gather the data, or if we already have a dataset and we want to perform a linear regression, what we will do is adjust a simple linear model to the dataset, we adjust the \"slope\" and \"intercept\" parameters to the data the best way possible, because the closer the model comes to describing each ocurrence, the better it will be at representing them.\n",
    "\n",
    "So how is this \"regression\" performed?"
   ]
  },
  {
   "cell_type": "markdown",
   "metadata": {},
   "source": [
    "---------------"
   ]
  },
  {
   "cell_type": "markdown",
   "metadata": {},
   "source": [
    "<a id=\"ref2\"></a>\n",
    "# Linear Regression with TensorFlow\n",
    "<h6>A simple example of a linear function can help us understand the basic mechanism behind TensorFlow. </h6>\n",
    "\n",
    "For the first part we will generate random data points and define a linear relation, we'll use TensorFlow to adjust and get the right parameters.\n"
   ]
  },
  {
   "cell_type": "code",
   "execution_count": 4,
   "metadata": {
    "collapsed": true
   },
   "outputs": [],
   "source": [
    "np.random?"
   ]
  },
  {
   "cell_type": "code",
   "execution_count": 5,
   "metadata": {},
   "outputs": [
    {
     "data": {
      "text/plain": [
       "(1000,)"
      ]
     },
     "execution_count": 5,
     "metadata": {},
     "output_type": "execute_result"
    }
   ],
   "source": [
    "x_data = np.linspace(-5, 5, 1000, dtype=np.float64)\n",
    "x_data.shape"
   ]
  },
  {
   "cell_type": "markdown",
   "metadata": {},
   "source": [
    "The equation for the model used in this example is :\n",
    "\n",
    "$$Y = 3 X + 2 $$\n",
    "\n",
    "\n",
    "Nothing special about this equation, it is just a model that we use to generate our data points. In fact, you can change the parameters to whatever you want, as you will do later. We add some gaussian noise to the points to make it a bit more interesting."
   ]
  },
  {
   "cell_type": "code",
   "execution_count": 6,
   "metadata": {
    "collapsed": true
   },
   "outputs": [],
   "source": [
    "y_data = x_data * 3 + 2\n",
    "y_data = np.vectorize(lambda y: y + np.random.normal(loc=0.0, scale=0.2))(y_data)"
   ]
  },
  {
   "cell_type": "markdown",
   "metadata": {},
   "source": [
    "Here is a sample of data:"
   ]
  },
  {
   "cell_type": "code",
   "execution_count": 7,
   "metadata": {
    "scrolled": true
   },
   "outputs": [
    {
     "data": {
      "text/plain": [
       "[(-5.0, -13.151988423086094),\n",
       " (-4.98998998998999, -12.934341183812666),\n",
       " (-4.97997997997998, -13.255879810667166),\n",
       " (-4.96996996996997, -13.047831993255112),\n",
       " (-4.95995995995996, -12.581011359237772)]"
      ]
     },
     "execution_count": 7,
     "metadata": {},
     "output_type": "execute_result"
    }
   ],
   "source": [
    "list(zip(x_data,y_data))[0:5]"
   ]
  },
  {
   "cell_type": "code",
   "execution_count": 8,
   "metadata": {},
   "outputs": [
    {
     "data": {
      "text/plain": [
       "<matplotlib.text.Text at 0x1135855f8>"
      ]
     },
     "execution_count": 8,
     "metadata": {},
     "output_type": "execute_result"
    },
    {
     "data": {
      "image/png": "[encoded data removed]",
      "text/plain": [
       "<matplotlib.figure.Figure at 0x11345f2b0>"
      ]
     },
     "metadata": {},
     "output_type": "display_data"
    }
   ],
   "source": [
    "plt.scatter(x_data, y_data, s=2)\n",
    "plt.xlabel('X')\n",
    "plt.ylabel('Y')"
   ]
  },
  {
   "cell_type": "markdown",
   "metadata": {},
   "source": [
    "First, we initialize the variables __a__ and __b__, with any random guess, and then we define the linear function:"
   ]
  },
  {
   "cell_type": "code",
   "execution_count": 9,
   "metadata": {
    "collapsed": true
   },
   "outputs": [],
   "source": [
    "a = tf.Variable(1.0)\n",
    "b = tf.Variable(0.2)\n",
    "y = a * x_data + b"
   ]
  },
  {
   "cell_type": "markdown",
   "metadata": {},
   "source": [
    "In a linear regression, we minimize the squared error of the equation that we want to adjust minus the target values (the data that we have), so we define the equation to be minimized as loss.\n",
    "\n",
    "To find Loss's value, we use __tf.reduce_mean()__. This function finds the mean of a multidimensional tensor, and the result can have a diferent dimension."
   ]
  },
  {
   "cell_type": "code",
   "execution_count": 10,
   "metadata": {
    "collapsed": true
   },
   "outputs": [],
   "source": [
    "loss = tf.reduce_mean(tf.square(y - y_data))"
   ]
  },
  {
   "cell_type": "markdown",
   "metadata": {},
   "source": [
    "Then, we define the optimizer method. Here we will use a simple gradient descent with a learning rate of 0.5: <br/>  \n",
    "Now we will define the training method of our graph, what method we will use for minimize the loss? We will use the tf.train.GradientDescentOptimizer.  \n",
    ".minimize()__ will minimize the error function of our optimizer, resulting in a better model."
   ]
  },
  {
   "cell_type": "code",
   "execution_count": 11,
   "metadata": {
    "collapsed": true
   },
   "outputs": [],
   "source": [
    "optimizer = tf.train.GradientDescentOptimizer(0.0001)\n",
    "train = optimizer.minimize(loss)"
   ]
  },
  {
   "cell_type": "markdown",
   "metadata": {},
   "source": [
    "Don't forget to initialize the variables before executing a graph:"
   ]
  },
  {
   "cell_type": "code",
   "execution_count": 12,
   "metadata": {
    "collapsed": true
   },
   "outputs": [],
   "source": [
    "init = tf.global_variables_initializer()\n",
    "sess = tf.Session()\n",
    "sess.run(init)"
   ]
  },
  {
   "cell_type": "markdown",
   "metadata": {},
   "source": [
    "Now we are ready to start the optimization and run the graph:"
   ]
  },
  {
   "cell_type": "code",
   "execution_count": 13,
   "metadata": {},
   "outputs": [
    {
     "name": "stdout",
     "output_type": "stream",
     "text": [
      "0 [1.0033382, 0.20035875] 1.00334 0.200359 36.5102\n",
      "1000 [2.623796, 0.52547354] 2.6238 0.525474 3.37171\n",
      "2000 [2.9284165, 0.79165006] 2.92842 0.79165 1.52735\n",
      "3000 [2.9856799, 1.0095724] 2.98568 1.00957 1.01085\n",
      "4000 [2.9964445, 1.1879894] 2.99644 1.18799 0.690083\n",
      "5000 [2.9984655, 1.3340613] 2.99847 1.33406 0.475973\n",
      "6000 [2.9988511, 1.4536521] 2.99885 1.45365 0.332488\n",
      "7000 [2.9988647, 1.5515628] 2.99886 1.55156 0.236313\n",
      "8000 [2.9988647, 1.6317246] 2.99886 1.63172 0.171846\n",
      "9000 [2.9988647, 1.6973535] 2.99886 1.69735 0.128635\n",
      "10000 [2.9988647, 1.7510856] 2.99886 1.75109 0.0996707\n",
      "11000 [2.9988647, 1.7950765] 2.99886 1.79508 0.0802561\n",
      "12000 [2.9988647, 1.8310925] 2.99886 1.83109 0.0672426\n",
      "13000 [2.9988647, 1.8605797] 2.99886 1.86058 0.0585197\n",
      "14000 [2.9988647, 1.8847207] 2.99886 1.88472 0.0526729\n",
      "15000 [2.9988647, 1.9044858] 2.99886 1.90449 0.0487537\n",
      "16000 [2.9988647, 1.9206678] 2.99886 1.92067 0.0461268\n",
      "17000 [2.9988647, 1.933916] 2.99886 1.93392 0.0443659\n",
      "18000 [2.9988647, 1.9447619] 2.99886 1.94476 0.0431857\n",
      "19000 [2.9988647, 1.9536421] 2.99886 1.95364 0.0423946\n",
      "20000 [2.9988647, 1.9609121] 2.99886 1.96091 0.0418643\n",
      "21000 [2.9988647, 1.9668642] 2.99886 1.96686 0.0415089\n",
      "22000 [2.9988647, 1.971737] 2.99886 1.97174 0.0412707\n",
      "23000 [2.9988647, 1.9757271] 2.99886 1.97573 0.0411109\n",
      "24000 [2.9988647, 1.9789934] 2.99886 1.97899 0.0410039\n",
      "25000 [2.9988647, 1.9816676] 2.99886 1.98167 0.0409321\n",
      "26000 [2.9988647, 1.9838587] 2.99886 1.98386 0.040884\n",
      "27000 [2.9988647, 1.9856515] 2.99886 1.98565 0.0408518\n",
      "28000 [2.9988647, 1.9871148] 2.99886 1.98711 0.0408302\n",
      "29000 [2.9988647, 1.9883152] 2.99886 1.98832 0.0408157\n",
      "30000 [2.9988647, 1.9893055] 2.99886 1.98931 0.040806\n",
      "31000 [2.9988647, 1.9901018] 2.99886 1.9901 0.0407995\n",
      "32000 [2.9988647, 1.990759] 2.99886 1.99076 0.0407952\n",
      "33000 [2.9988647, 1.991297] 2.99886 1.9913 0.0407922\n",
      "34000 [2.9988647, 1.9917456] 2.99886 1.99175 0.0407902\n",
      "35000 [2.9988647, 1.9921032] 2.99886 1.9921 0.0407889\n",
      "36000 [2.9988647, 1.9923928] 2.99886 1.99239 0.0407881\n",
      "37000 [2.9988647, 1.9926312] 2.99886 1.99263 0.0407875\n",
      "38000 [2.9988647, 1.9928612] 2.99886 1.99286 0.040787\n",
      "39000 [2.9988647, 1.9929804] 2.99886 1.99298 0.0407868\n",
      "40000 [2.9988647, 1.9930996] 2.99886 1.9931 0.0407866\n",
      "41000 [2.9988647, 1.9932188] 2.99886 1.99322 0.0407865\n",
      "42000 [2.9988647, 1.993338] 2.99886 1.99334 0.0407864\n",
      "43000 [2.9988647, 1.9934487] 2.99886 1.99345 0.0407863\n",
      "44000 [2.9988647, 1.9934487] 2.99886 1.99345 0.0407863\n",
      "45000 [2.9988647, 1.9934487] 2.99886 1.99345 0.0407863\n",
      "46000 [2.9988647, 1.9934487] 2.99886 1.99345 0.0407863\n",
      "47000 [2.9988647, 1.9934487] 2.99886 1.99345 0.0407863\n",
      "48000 [2.9988647, 1.9934487] 2.99886 1.99345 0.0407863\n",
      "49000 [2.9988647, 1.9934487] 2.99886 1.99345 0.0407863\n",
      "50000 [2.9988647, 1.9934487] 2.99886 1.99345 0.0407863\n",
      "51000 [2.9988647, 1.9934487] 2.99886 1.99345 0.0407863\n",
      "52000 [2.9988647, 1.9934487] 2.99886 1.99345 0.0407863\n",
      "53000 [2.9988647, 1.9934487] 2.99886 1.99345 0.0407863\n",
      "54000 [2.9988647, 1.9934487] 2.99886 1.99345 0.0407863\n",
      "55000 [2.9988647, 1.9934487] 2.99886 1.99345 0.0407863\n",
      "56000 [2.9988647, 1.9934487] 2.99886 1.99345 0.0407863\n",
      "57000 [2.9988647, 1.9934487] 2.99886 1.99345 0.0407863\n",
      "58000 [2.9988647, 1.9934487] 2.99886 1.99345 0.0407863\n",
      "59000 [2.9988647, 1.9934487] 2.99886 1.99345 0.0407863\n"
     ]
    }
   ],
   "source": [
    "train_data = []\n",
    "for step in range(60000):\n",
    "    evals = sess.run([train, a, b])[1:]\n",
    "    if step % 1000 == 0:\n",
    "        print(step, evals, sess.run(a), sess.run(b), sess.run(loss))\n",
    "        train_data.append(evals)"
   ]
  },
  {
   "cell_type": "code",
   "execution_count": 14,
   "metadata": {
    "scrolled": true
   },
   "outputs": [
    {
     "data": {
      "image/png": "[encoded data removed]",
      "text/plain": [
       "<matplotlib.figure.Figure at 0x1134f2630>"
      ]
     },
     "metadata": {},
     "output_type": "display_data"
    }
   ],
   "source": [
    "converter = plt.colors\n",
    "cr, cg, cb = (1.0, 1.0, 0.0)\n",
    "for f in train_data:\n",
    "    cb += 1.0 / len(train_data)\n",
    "    cg -= 1.0 / len(train_data)\n",
    "    if cb > 1.0: cb = 1.0\n",
    "    if cg < 0.0: cg = 0.0\n",
    "    [a, b] = f\n",
    "    f_y = np.vectorize(lambda x: a*x + b)(x_data)\n",
    "    line = plt.plot(x_data, f_y)\n",
    "    plt.setp(line, color=(cr,cg,cb))\n",
    "\n",
    "plt.plot(x_data, y_data, 'ro')\n",
    "\n",
    "\n",
    "green_line = mpatches.Patch(color='red', label='Data Points')\n",
    "\n",
    "plt.legend(handles=[green_line])\n",
    "\n",
    "plt.show()"
   ]
  },
  {
   "cell_type": "markdown",
   "metadata": {},
   "source": [
    "---------------"
   ]
  },
  {
   "cell_type": "markdown",
   "metadata": {},
   "source": [
    "### Thanks for completing this lesson!\n",
    "\n",
    "If you are familiar with some of these methods and concepts, this tutorial might have been boring for you, but it is important to get used to the TensorFlow mechanics, and feel familiar and comfortable using it, so you can build more complex algorithms in it.\n",
    "\n",
    "Created by <a href=\"https://ca.linkedin.com/in/rafaelblsilva\"> Rafael Belo Da Silva</a><br />\n",
    "Linear Regression plot by Hugo Sales Correa\n",
    "\n",
    "This tutorial was inspired by the documentation of TensorFlow : https://www.tensorflow.org/versions/r0.9/get_started/index.html <br>\n"
   ]
  },
  {
   "cell_type": "code",
   "execution_count": 15,
   "metadata": {
    "collapsed": true
   },
   "outputs": [],
   "source": [
    "plt.setp?"
   ]
  },
  {
   "cell_type": "code",
   "execution_count": null,
   "metadata": {
    "collapsed": true
   },
   "outputs": [],
   "source": []
  }
 ],
 "metadata": {
  "kernelspec": {
   "display_name": "Python 3",
   "language": "python",
   "name": "python3"
  },
  "language_info": {
   "codemirror_mode": {
    "name": "ipython",
    "version": 3
   },
   "file_extension": ".py",
   "mimetype": "text/x-python",
   "name": "python",
   "nbconvert_exporter": "python",
   "pygments_lexer": "ipython3",
   "version": "3.5.2"
  },
  "widgets": {
   "state": {},
   "version": "1.1.2"
  }
 },
 "nbformat": 4,
 "nbformat_minor": 1
}

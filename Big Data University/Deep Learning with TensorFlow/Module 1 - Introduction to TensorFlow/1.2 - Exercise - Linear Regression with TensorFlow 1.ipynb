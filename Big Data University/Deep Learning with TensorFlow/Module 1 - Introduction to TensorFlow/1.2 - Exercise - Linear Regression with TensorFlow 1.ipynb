{
 "cells": [
  {
   "cell_type": "markdown",
   "metadata": {},
   "source": [
    "<a href=\"https://www.bigdatauniversity.com\"><img src = \"https://ibm.box.com/shared/static/jvcqp2iy2jlx2b32rmzdt0tx8lvxgzkp.png\" width = 300, align = \"center\"></a>\n",
    "\n",
    "<h1 align=center> <font size = 5> Exercise-Linear Regression with TensorFlow </font></h1>"
   ]
  },
  {
   "cell_type": "markdown",
   "metadata": {},
   "source": [
    "This exercise is about modelling a linear relationship between \"chirps of a cricket\" and ground temperature. \n",
    "\n",
    "In 1948, G. W. Pierce in his book \"Songs of Insects\" mentioned that we can predict temperature by listening to the freuency of songs(chirps) made by stripped Crickets. He recorded change in behaviour of crickets by recording number of chirps made by them at several \"different temperatures\" and found that there is a pattern in the way crickets respond to the rate of change in ground temperature 60 to 100 degrees of farenhite. He also found out that Crickets did not sing   \n",
    "above or below this temperature.\n",
    "\n",
    "This data is derieved from the above mentioned book and aim is to fit a linear model and predict the \"Best Fit Line\" for the given \"Chirps(per 15 Second)\" in Column 'A' and the corresponding \"Temperatures(Farenhite)\" in Column 'B' using TensorFlow. So that one could easily tell what temperature it is just by listening to the songs of cricket. \n",
    "\n"
   ]
  },
  {
   "cell_type": "markdown",
   "metadata": {},
   "source": [
    "### Let's import tensorFlow and python dependencies "
   ]
  },
  {
   "cell_type": "code",
   "execution_count": 2,
   "metadata": {
    "collapsed": true,
    "scrolled": false
   },
   "outputs": [],
   "source": [
    "import tensorflow as tf\n",
    "import numpy as np\n",
    "import pandas as pd\n",
    "import matplotlib.pyplot as plt"
   ]
  },
  {
   "cell_type": "markdown",
   "metadata": {},
   "source": [
    "### Download and Explore the Data "
   ]
  },
  {
   "cell_type": "code",
   "execution_count": 4,
   "metadata": {},
   "outputs": [
    {
     "name": "stdout",
     "output_type": "stream",
     "text": [
      "2017-04-12 15:36:05 URL:https://public.boxcloud.com/d/1/FxVACbm2gMHfe7rDIZhFrvTM9_6Ec5UOrEZ0AFY57jqei4PqSyotxU2qcfSycaVYfFP6o5G4icN8uhW98i4LBMXoch0iVosgnL_0qUk5MxdGPHh_jBGfR4ePKhVoxWpS9mVpfvAW2e8lS-YivSDHHoHrcv2xKXJzcjwLD1MZ2XG6OsgZKoKFpBctGMb9yLsEbfJ29Yh48SzAMPcxcW_IIV1XwH-sHDkYpyg678zrORmm6yD-qienevav8U_zY3cQqswKbwNGyyKIrbIimV99JyE_yilYkO-bsBxx_t_kukBj7fpjzr6cbtUyKz37STcxMLldoXzyeNYOCFYAu7SQhgTuunOIkw6dbfOGkNNr5VMwhWqqD_e_-dvYz9LNcvRFESo_E1f8Za9lEV3pfF8wb_wt21utyx5g8jdCLm-P3uh3_gV5DPKUWsnN0eGUNhehuTR1HNP-Qb3kbLUKUWECFDeyUh20QX6GcveULqg6ZGrydG2wAEeWhVXfeN63lSlr4oyZkhwNcQoxW7gvIboaN2JNQ39-VIwf3lKFtsnBTJh6rSClmdxsfzhwqjD0EeD35RYIZIFtbMWYMjT-jdOgnU3Fn7sS8jaSYoqUCiviQV0q78TH-f3TVAlVSg-IK_JHz1czYgZMqp3fb_SJsiJVTlxArE3ZjSYQ-k4uktEcYp2_rYf-L5A3NYlwlk6Awac0S7dOM_QvvfaCaJmxPf72y5Zj_Hnt4HKmdO-2-iUtNk1fN7PLiFjwKmsp6DbsHQnSg9NZiaDKd1vMAI3JhEDSI-NkLX6lM7mhMUs-60VP3E0ovKPTij1r9fxN1iFi--rQocWPG_IVLOK_6YISwt3jikxMapCVMFCl9S_0djRwV-1Kr3O108r6p5t2KL4CZn7n4JJ1x-R0ibW84CeUs1IWV-S581h0Y0o0kheeNd8Pm83R-eIwOfAxzVjjUjUYE62LBm6XC0awvTeuqCMWuR4H74a9PVKJiUwIl4MM974JJeWyT78FN4QE1g19EY7pj7z6KzZyMVXR5bwKnTLoY1T4ASFMqYgjWseZ8BtvcEIz9gUW3auN_wHeDBreRqvPQgk7SAIBjVWOD759xBJQpd7TNI7uFJnwJcp2DxnZrEsgLlTwnrP81Z9MZTWrvTRuG2miWKKP05bUPkI8sy9ZT4qTisZj/download [164/164] -> \"PierceCricketData.csv\" [1]\r\n"
     ]
    },
    {
     "data": {
      "text/html": [
       "<div>\n",
       "<table border=\"1\" class=\"dataframe\">\n",
       "  <thead>\n",
       "    <tr style=\"text-align: right;\">\n",
       "      <th></th>\n",
       "      <th>Chirps</th>\n",
       "      <th>Temp</th>\n",
       "    </tr>\n",
       "  </thead>\n",
       "  <tbody>\n",
       "    <tr>\n",
       "      <th>0</th>\n",
       "      <td>20.0</td>\n",
       "      <td>88.6</td>\n",
       "    </tr>\n",
       "    <tr>\n",
       "      <th>1</th>\n",
       "      <td>16.0</td>\n",
       "      <td>71.6</td>\n",
       "    </tr>\n",
       "    <tr>\n",
       "      <th>2</th>\n",
       "      <td>19.8</td>\n",
       "      <td>93.3</td>\n",
       "    </tr>\n",
       "    <tr>\n",
       "      <th>3</th>\n",
       "      <td>18.4</td>\n",
       "      <td>84.3</td>\n",
       "    </tr>\n",
       "    <tr>\n",
       "      <th>4</th>\n",
       "      <td>17.1</td>\n",
       "      <td>80.6</td>\n",
       "    </tr>\n",
       "  </tbody>\n",
       "</table>\n",
       "</div>"
      ],
      "text/plain": [
       "   Chirps  Temp\n",
       "0    20.0  88.6\n",
       "1    16.0  71.6\n",
       "2    19.8  93.3\n",
       "3    18.4  84.3\n",
       "4    17.1  80.6"
      ]
     },
     "execution_count": 4,
     "metadata": {},
     "output_type": "execute_result"
    }
   ],
   "source": [
    "#downloading dataset\n",
    "!wget -nv -O PierceCricketData.csv https://ibm.box.com/shared/static/fjbsu8qbwm1n5zsw90q6xzfo4ptlsw96.csv\n",
    "\n",
    "\n",
    "df = pd.read_csv(\"PierceCricketData.csv\")\n",
    "df.head()"
   ]
  },
  {
   "cell_type": "markdown",
   "metadata": {},
   "source": [
    "<h6> Plot the Data Points </h6>"
   ]
  },
  {
   "cell_type": "code",
   "execution_count": 5,
   "metadata": {},
   "outputs": [
    {
     "data": {
      "text/plain": [
       "<matplotlib.text.Text at 0x11178ad68>"
      ]
     },
     "execution_count": 5,
     "metadata": {},
     "output_type": "execute_result"
    },
    {
     "data": {
      "image/png": "[encoded data removed]",
      "text/plain": [
       "<matplotlib.figure.Figure at 0x1113625f8>"
      ]
     },
     "metadata": {},
     "output_type": "display_data"
    }
   ],
   "source": [
    "%matplotlib inline\n",
    "\n",
    "x_data, y_data = (df[\"Chirps\"].values, df[\"Temp\"].values)\n",
    "\n",
    "# plots the data points\n",
    "plt.plot(x_data, y_data, 'ro')\n",
    "# label the axis\n",
    "plt.xlabel(\"# Chirps per 15 sec\")\n",
    "plt.ylabel(\"Temp in Farenhiet\")\n"
   ]
  },
  {
   "cell_type": "code",
   "execution_count": 16,
   "metadata": {},
   "outputs": [
    {
     "data": {
      "text/plain": [
       "<matplotlib.axes._subplots.AxesSubplot at 0x112309198>"
      ]
     },
     "execution_count": 16,
     "metadata": {},
     "output_type": "execute_result"
    },
    {
     "data": {
      "image/png": "[encoded data removed]",
      "text/plain": [
       "<matplotlib.figure.Figure at 0x11231b1d0>"
      ]
     },
     "metadata": {},
     "output_type": "display_data"
    }
   ],
   "source": [
    "df.plot.scatter(x='Chirps', y='Temp', c='r', s=30)"
   ]
  },
  {
   "cell_type": "markdown",
   "metadata": {},
   "source": [
    "Looking at the scatter plot we can analyse that there is a linear relationship between the data points that connect chirps to the temperature and optimal way to infer this knowledge is by fitting a line that best describes the data. Which follows the linear equation: \n",
    "\n",
    " ####                                          Ypred = m X + c \n",
    "\n",
    "We have to estimate the values of the slope 'm' and the inrtercept 'c' to fit a line where, X is the \"Chirps\" and Ypred is \"Predicted Temperature\" in this case. \n"
   ]
  },
  {
   "cell_type": "markdown",
   "metadata": {},
   "source": [
    "### Create a Data Flow Graph using TensorFlow \n",
    "\n",
    "Model the above equation by assigning arbitrary values of your choice for slope \"m\" and intercept \"c\" which can predict the temp \"Ypred\" given Chirps \"X\" as input. \n",
    "\n",
    "example m=3 and c=2\n",
    "\n",
    "Also, create a place holder for actual temperature \"Y\" which we will be needing for Optimization to estimate the actual values of slope and intercept.\n"
   ]
  },
  {
   "cell_type": "code",
   "execution_count": 72,
   "metadata": {
    "collapsed": true
   },
   "outputs": [],
   "source": [
    "# Create place holders and Variables along with the Linear model.\n",
    "X = tf.placeholder(dtype=tf.float32, name='X')\n",
    "y = tf.placeholder(dtype=tf.float32, name='y')\n",
    "\n",
    "m = tf.Variable(5, dtype=tf.float32)\n",
    "c = tf.Variable(2, dtype=tf.float32)\n",
    "\n",
    "# Your code goes here\n",
    "y_pred = m * X + c"
   ]
  },
  {
   "cell_type": "markdown",
   "metadata": {},
   "source": [
    "<div align=\"right\">\n",
    "<a href=\"#createvar\" class=\"btn btn-default\" data-toggle=\"collapse\">Click here for the solution</a>\n",
    "</div>\n",
    "<div id=\"createvar\" class=\"collapse\">\n",
    "```\n",
    "\n",
    "X = tf.placeholder(tf.float32, shape=(x_data.size))\n",
    "Y = tf.placeholder(tf.float32,shape=(y_data.size))\n",
    "\n",
    "# tf.Variable call creates a  single updatable copy in the memory and efficiently updates \n",
    "# the copy to relfect any changes in the variable values through out the scope of the tensorflow session\n",
    "m = tf.Variable(3.0)\n",
    "c = tf.Variable(2.0)\n",
    "\n",
    "# Construct a Model\n",
    "Ypred = tf.add(tf.multiply(X, m), c)\n",
    "```\n",
    "</div>"
   ]
  },
  {
   "cell_type": "markdown",
   "metadata": {},
   "source": [
    "###  Create and Run a Session to Visualize the Predicted Line from above Graph \n",
    "\n",
    "<h6> Feel free to change the values of \"m\" and \"c\" in future to check how the initial position of line changes </h6>\n"
   ]
  },
  {
   "cell_type": "code",
   "execution_count": 73,
   "metadata": {
    "collapsed": true
   },
   "outputs": [],
   "source": [
    "#create session and initialize variables\n",
    "session = tf.Session()\n",
    "session.run(tf.global_variables_initializer())"
   ]
  },
  {
   "cell_type": "code",
   "execution_count": 74,
   "metadata": {},
   "outputs": [
    {
     "data": {
      "image/png": "[encoded data removed]",
      "text/plain": [
       "<matplotlib.figure.Figure at 0x112b6ef60>"
      ]
     },
     "metadata": {},
     "output_type": "display_data"
    }
   ],
   "source": [
    "#get prediction with initial parameter values\n",
    "#Your code goes here\n",
    "predictions = session.run(y_pred, feed_dict={X: x_data})\n",
    "plt.plot(x_data, predictions, 'bx')\n",
    "plt.plot(x_data,  y_data, 'ro')\n",
    "plt.xlabel('Chirps')\n",
    "plt.ylabel('Temp')\n",
    "plt.show()"
   ]
  },
  {
   "cell_type": "markdown",
   "metadata": {},
   "source": [
    "<div align=\"right\">\n",
    "<a href=\"#matmul1\" class=\"btn btn-default\" data-toggle=\"collapse\">Click here for the solution</a>\n",
    "</div>\n",
    "<div id=\"matmul1\" class=\"collapse\">\n",
    "```\n",
    "\n",
    "pred = session.run(Ypred, feed_dict={X:x_data})\n",
    "\n",
    "#plot initial prediction against datapoints\n",
    "plt.plot(x_data, pred)\n",
    "plt.plot(x_data, y_data, 'ro')\n",
    "# label the axis\n",
    "plt.xlabel(\"# Chirps per 15 sec\")\n",
    "plt.ylabel(\"Temp in Farenhiet\")\n",
    "\n",
    "\n",
    "```\n",
    "</div>"
   ]
  },
  {
   "cell_type": "markdown",
   "metadata": {},
   "source": [
    "### Define a  Graph for Loss Function\n",
    "\n",
    "The essence of estimating the values for \"m\" and \"c\" lies in minimizing the difference between predicted \"Ypred\" and actual \"Y\" temperature values which is defined in the form of Mean Squared error loss function. \n",
    "      \n",
    "$$ loss = \\frac{1}{n}\\sum_{i=1}^n{[Ypred_i - {Y}_i]^2} $$\n",
    "\n",
    "Note: There are also other ways to model the loss function based on distance metric between predicted and actual temperature values. For this exercise Mean Suared error criteria is considered. \n"
   ]
  },
  {
   "cell_type": "code",
   "execution_count": 75,
   "metadata": {
    "collapsed": true
   },
   "outputs": [],
   "source": [
    "#Your code goes here\n",
    "loss = tf.reduce_mean(tf.square(y_pred - y))"
   ]
  },
  {
   "cell_type": "markdown",
   "metadata": {},
   "source": [
    "<div align=\"right\">\n",
    "<a href=\"#matmul12\" class=\"btn btn-default\" data-toggle=\"collapse\">Click here for the solution</a>\n",
    "</div>\n",
    "<div id=\"matmul12\" class=\"collapse\">\n",
    "```\n",
    "# normalization factor\n",
    "nf = 1e-1\n",
    "# seting up the loss function\n",
    "loss = tf.reduce_mean(tf.squared_difference(Ypred*nf,Y*nf))\n",
    "```\n",
    "</div>"
   ]
  },
  {
   "cell_type": "markdown",
   "metadata": {},
   "source": [
    "### Define an Optimization Graph to Minimize the Loss and Training the Model\n",
    "\n",
    "\n",
    "\n"
   ]
  },
  {
   "cell_type": "code",
   "execution_count": 76,
   "metadata": {
    "collapsed": true
   },
   "outputs": [],
   "source": [
    "# Your code goes here\n",
    "optimizer = tf.train.GradientDescentOptimizer(0.003)\n",
    "train = optimizer.minimize(loss=loss)"
   ]
  },
  {
   "cell_type": "markdown",
   "metadata": {},
   "source": [
    "<div align=\"right\">\n",
    "<a href=\"#matmul13\" class=\"btn btn-default\" data-toggle=\"collapse\">Click here for the solution</a>\n",
    "</div>\n",
    "<div id=\"matmul13\" class=\"collapse\">\n",
    "```\n",
    "optimizer = tf.train.GradientDescentOptimizer(learning_rate=0.01)\n",
    "#optimizer = tf.train.AdagradOptimizer(0.01 )\n",
    "\n",
    "# pass the loss function that optimizer should optimize on.\n",
    "train = optimizer.minimize(loss)\n",
    "\n",
    "```\n",
    "</div>"
   ]
  },
  {
   "cell_type": "markdown",
   "metadata": {},
   "source": [
    "### Initialize all the vairiables again\n"
   ]
  },
  {
   "cell_type": "code",
   "execution_count": 77,
   "metadata": {
    "collapsed": true
   },
   "outputs": [],
   "source": [
    "session.run(tf.global_variables_initializer())"
   ]
  },
  {
   "cell_type": "markdown",
   "metadata": {},
   "source": [
    "###  Run session to train and predict the values of 'm' and 'c' for different training steps along with storing the losses in each step"
   ]
  },
  {
   "cell_type": "markdown",
   "metadata": {},
   "source": [
    "Get the predicted m and c values by running a session on Training a linear model. Also collect the loss for different steps to print and plot.  "
   ]
  },
  {
   "cell_type": "code",
   "execution_count": 78,
   "metadata": {},
   "outputs": [
    {
     "name": "stdout",
     "output_type": "stream",
     "text": [
      "Finished by Convergence Criterion\n",
      "82105\n",
      "12.646\n"
     ]
    }
   ],
   "source": [
    "convergenceTolerance = 0.00001\n",
    "previous_m = np.inf\n",
    "previous_c = np.inf\n",
    "\n",
    "steps = {}\n",
    "steps['m'] = []\n",
    "steps['c'] = []\n",
    "\n",
    "losses=[]\n",
    "\n",
    "for k in range(100000):\n",
    "   ########## Your Code goes Here ###########\n",
    "    session.run(train, feed_dict={X: x_data, y: y_data})\n",
    "\n",
    "    (_m, _c, _l) = session.run((m, c, loss), feed_dict={X: x_data, y: y_data})\n",
    "    steps['m'].append(_m)\n",
    "    steps['c'].append(_c)\n",
    "    losses.append(_l)\n",
    "        \n",
    "    if np.abs(previous_m - _m) <= convergenceTolerance and np.abs(previous_c - _c) <= convergenceTolerance:\n",
    "        print(\"Finished by Convergence Criterion\")\n",
    "        print(k)\n",
    "        print(_l)\n",
    "        break\n",
    "        \n",
    "    previous_m = _m, \n",
    "    previous_c = _c, \n",
    "    \n",
    "session.close() "
   ]
  },
  {
   "cell_type": "markdown",
   "metadata": {},
   "source": [
    "<div align=\"right\">\n",
    "<a href=\"#matmul18\" class=\"btn btn-default\" data-toggle=\"collapse\">Click here for the solution</a>\n",
    "</div>\n",
    "<div id=\"matmul18\" class=\"collapse\">\n",
    "```\n",
    "# run a session to train , get m and c values with loss function \n",
    "_, _m , _c,_l = session.run([train, m, c,loss],feed_dict={X:x_data,Y:y_data}) \n",
    "\n",
    "```\n",
    "</div>"
   ]
  },
  {
   "cell_type": "markdown",
   "metadata": {},
   "source": [
    "### Print the loss function"
   ]
  },
  {
   "cell_type": "code",
   "execution_count": 79,
   "metadata": {
    "scrolled": true
   },
   "outputs": [
    {
     "data": {
      "image/png": "[encoded data removed]",
      "text/plain": [
       "<matplotlib.figure.Figure at 0x112a215c0>"
      ]
     },
     "metadata": {},
     "output_type": "display_data"
    },
    {
     "name": "stdout",
     "output_type": "stream",
     "text": [
      "[32.328823, 14.809194, 13.454893, 12.948362, 12.758922, 12.688061, 12.661551, 12.651652, 12.647939, 12.646557, 12.646035]\n"
     ]
    }
   ],
   "source": [
    "# Your Code Goes Here\n",
    "\n",
    "plt.plot(losses[:])\n",
    "plt.show()\n",
    "\n",
    "print(losses[: : int(len(losses) / 10)])"
   ]
  },
  {
   "cell_type": "markdown",
   "metadata": {},
   "source": [
    "<div align=\"right\">\n",
    "<a href=\"#matmul199\" class=\"btn btn-default\" data-toggle=\"collapse\">Click here for the solution</a>\n",
    "</div>\n",
    "<div id=\"matmul199\" class=\"collapse\">\n",
    "```\n",
    "plt.plot(losses[:])\n",
    "\n",
    "```\n",
    "</div>"
   ]
  },
  {
   "cell_type": "markdown",
   "metadata": {},
   "source": [
    "This Exercise is about giving Overview about how to use TensorFlow for Predicting Ground Temperature given the number of Cricket Chirps per 15 secs. Idea is to use TnesorFlow's dataflow graph to define Optimization and Training graphs to find out the actual values of 'm' and 'c' that best describes the given Data. \n",
    "\n",
    "\n",
    "### Please Feel free to change the initial values of 'm' and 'c' to check how the training steps Vary. \n",
    "\n",
    "\n",
    "\n",
    "\n",
    "## Thank You for Completing this exercise "
   ]
  },
  {
   "cell_type": "markdown",
   "metadata": {},
   "source": [
    "Created by <a href = \"https://ca.linkedin.com/in/shashibushan-yenkanchi\"> Shashibushan Yenkanchi </a> </h4>\n"
   ]
  },
  {
   "cell_type": "markdown",
   "metadata": {},
   "source": [
    "# REFERENCES"
   ]
  },
  {
   "cell_type": "markdown",
   "metadata": {},
   "source": [
    "http://mathbits.com/MathBits/TISection/Statistics2/linearREAL.htm"
   ]
  }
 ],
 "metadata": {
  "anaconda-cloud": {},
  "kernelspec": {
   "display_name": "Python 3",
   "language": "python",
   "name": "python3"
  },
  "language_info": {
   "codemirror_mode": {
    "name": "ipython",
    "version": 3
   },
   "file_extension": ".py",
   "mimetype": "text/x-python",
   "name": "python",
   "nbconvert_exporter": "python",
   "pygments_lexer": "ipython3",
   "version": "3.5.2"
  },
  "widgets": {
   "state": {},
   "version": "1.1.2"
  }
 },
 "nbformat": 4,
 "nbformat_minor": 1
}

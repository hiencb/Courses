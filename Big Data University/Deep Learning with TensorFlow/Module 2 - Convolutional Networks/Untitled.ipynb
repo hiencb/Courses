{
 "cells": [
  {
   "cell_type": "code",
   "execution_count": 1,
   "metadata": {
    "collapsed": true
   },
   "outputs": [],
   "source": [
    "cs = [\"x\", \"y\", \"x\", \"z\", \"x\", \"z\", \"x\", \"t\", \"x\", \"y\", \"x\", \"t\", \"x\", \"y\", \"x\", \"y\", \"x\", \"u\", \"x\", \"u\", \"\\n\", \"x\", \"y\", \"x\", \"u\", \"x\", \"u\", \"x\", \"y\", \"x\", \"u\", \"x\", \"t\", \"x\", \"y\", \"x\", \"t\", \"x\", \"y\", \"x\", \"y\", \"x\", \"u\", \"x\", \"u\", \"x\", \"y\", \"x\", \"u\", \"x\", \"u\", \"x\", \"y\", \"x\", \"u\", \"x\", \"u\", \"x\", \"u\", \"x\", \"y\", \"x\", \"u\", \"x\", \"u\", \"x\", \"u\", \"x\", \"y\", \"x\", \"u\", \"x\", \"z\", \"\\n\", \"x\", \"y\", \"x\", \"y\", \"x\", \"z\", \"x\", \"z\", \"x\", \"y\", \"x\", \"z\", \"x\", \"y\", \"x\", \"y\", \"u\", \"z\", \"x\", \"z\", \"x\", \"t\", \"x\", \"y\", \"x\", \"y\", \"t\", \"y\", \"x\", \"y\", \"x\", \"y\", \"x\", \"z\", \"x\", \"z\", \"x\", \"y\", \"x\", \"z\", \"x\", \"z\", \"x\", \"<\", \"x\", \"y\", \"x\", \"z\", \"x\", \"z\", \"x\", \"z\", \"x\", \"z\", \"x\", \"y\", \"x\", \"y\", \"x\", \"y\", \"x\", \"y\", \"x\", \"z\", \"x\", \"z\", \"x\", \"y\", \"x\", \"z\", \"x\", \"z\", \"x\", \"y\", \"x\", \"z\", \"x\", \"y\", \"x\", \"y\", \"x\", \"z\", \"x\", \"z\", \"x\", \"y\", \"x\", \"z\", \"x\", \"z\", \"x\", \"y\", \"x\", \"z\", \"x\", \"y\", \"x\", \"y\", \"u\", \"z\", \"x\", \"z\", \"x\", \"y\", \"\\n\", \"x\", \"y\", \"x\", \"y\", \"x\", \"y\", \"x\", \"y\", \"x\", \"y\", \"x\", \"y\", \"x\", \"y\", \"x\", \"y\", \"x\", \"t\", \"y\", \"x\", \"y\", \"x\", \"t\", \"x\", \"y\", \"x\", \"y\", \"x\", \"y\", \"x\", \"y\", \"x\", \"y\", \"x\", \"y\", \"x\", \"y\", \"x\", \"y\", \"x\", \"y\", \"x\", \"y\", \"x\", \"y\", \"x\", \"v\", \"u\", \"y\", \"x\", \"y\", \"x\", \"y\", \"x\", \"y\", \"x\", \"y\", \"x\", \"y\", \"x\", \"y\", \"x\", \"y\", \"x\", \"y\", \"x\", \"y\", \"x\", \"y\", \"x\", \"y\", \"x\", \"y\", \"x\", \"y\", \"x\", \"y\", \"x\", \"y\", \"x\", \"y\", \"x\", \"y\", \"x\", \"y\", \"x\", \">\", \"\\n\", \"v\", \"u\", \"y\", \"x\", \"y\", \"x\", \"v\", \"u\", \"y\", \"x\", \"y\", \"x\", \"v\", \"u\", \"y\", \"x\", \"y\", \"x\", \"v\", \"u\", \"x\", \"t\", \"x\", \"y\", \"x\", \"t\", \"x\", \"y\", \"x\", \"v\", \"u\", \"v\", \"x\", \"v\", \"x\", \"y\", \"x\", \"v\", \"u\", \"x\", \"y\", \"x\", \"y\", \"x\", \"y\", \"x\", \"y\", \"x\", \"y\", \"x\", \"y\", \"x\", \"y\", \"x\", \"u\", \"x\", \"v\", \"u\", \"y\", \"x\", \"y\", \"x\", \"v\", \"u\", \"v\", \"x\", \"v\", \"x\", \"v\", \"u\", \"y\", \"x\", \"y\", \"x\", \"u\", \"x\", \"v\", \"u\", \"x\", \"v\", \"u\", \"y\", \"x\", \"y\", \"x\", \"v\", \"u\", \"y\", \"x\", \"y\", \"x\", \"v\", \"u\", \"x\", \"y\"]"
   ]
  },
  {
   "cell_type": "code",
   "execution_count": 3,
   "metadata": {
    "collapsed": true
   },
   "outputs": [],
   "source": [
    "ns = [4, 2, 3, 1, 1, 1, 27, 2, 3, 1, 1, 1, 2, 1, 1, 1, 20, 1, 102, 1, 1, 3, 2, 9, 3, 6, 3, 3, 1, 2, 3, 4, 2, 2, 1, 2, 1, 1, 1, 1, 1, 2, 3, 6, 2, 6, 2, 3, 1, 3, 2, 22, 1, 1, 2, 6, 3, 6, 3, 3, 1, 12, 3, 6, 3, 6, 3, 3, 1, 2, 3, 5, 2, 1, 2, 2, 8, 2, 3, 1, 1, 1, 1, 2, 3, 1, 1, 1, 1, 2, 3, 1, 1, 1, 1, 2, 1, 1, 1, 1, 2, 1, 1, 1, 1, 2, 3, 1, 1, 1, 1, 2, 2, 1, 1, 1, 1, 2, 3, 2, 1, 1, 1, 1, 2, 1, 1, 1, 1, 2, 3, 1, 1, 1, 9, 2, 3, 1, 1, 1, 1, 2, 3, 1, 1, 1, 1, 2, 3, 1, 1, 1, 11, 2, 3, 1, 1, 1, 1, 2, 3, 1, 1, 1, 1, 2, 3, 1, 1, 1, 1, 2, 3, 1, 1, 1, 1, 2, 1, 1, 2, 8, 2, 3, 1, 1, 1, 1, 2, 3, 1, 1, 1, 1, 2, 8, 2, 1, 1, 1, 1, 1, 2, 1, 1, 2, 3, 1, 1, 1, 1, 2, 7, 2, 2, 2, 1, 1, 1, 1, 2, 1, 1, 1, 1, 2, 3, 1, 1, 1, 9, 2, 3, 1, 1, 1, 1, 2, 3, 1, 1, 1, 1, 2, 3, 1, 1, 1, 11, 2, 7, 2, 3, 1, 1, 1, 1, 2, 3, 1, 1, 1, 1, 2, 8, 2, 1, 2, 4, 1, 1, 1, 1, 2, 3, 1, 1, 1, 1, 2, 3, 1, 1, 1, 1, 2, 4, 5, 1, 2, 1, 2, 1, 1, 1, 1, 2, 3, 1, 1, 1, 1, 2, 7, 2, 1, 1, 2, 1, 1, 1, 1, 2, 1, 1, 1, 6, 1, 1, 1, 3, 5, 1, 2, 3, 1, 1, 1, 1, 2, 3, 1, 1, 1, 1, 2, 3, 1, 1, 1, 5, 5, 1, 2, 4, 3, 2, 3, 1, 1, 1, 1, 2, 3, 1, 1, 1, 1, 2, 4, 3, 2]"
   ]
  },
  {
   "cell_type": "code",
   "execution_count": 4,
   "metadata": {
    "collapsed": true
   },
   "outputs": [],
   "source": [
    "map = {\n",
    "    'x': ' ',\n",
    "    'y': '/',\n",
    "    'z': ')',\n",
    "    't': '|',\n",
    "    'u': '_',\n",
    "    'v': '('\n",
    "}"
   ]
  },
  {
   "cell_type": "code",
   "execution_count": 14,
   "metadata": {},
   "outputs": [
    {
     "name": "stdout",
     "output_type": "stream",
     "text": [
      "////  /// ) )))))))))))))))))))))))))))  ||| / || / //////////////////// ______________________________________________________________________________________________________ _\n",
      "\n",
      "\n",
      "  /////////   ______   ___ //   ____  || // | / //   ______  ______  /// ___  ______________________ /  ______   ______   ___ ////////////   ______   ______   ___ //   _____  )\n",
      "\n",
      "  ////////  /// ) )  /// ) /  ///_) )  | / //|/ /  /// ) )  // ) )  <<<  / ) )) ) )  /// / /////////  /// ) )  /// ) )  /// ) ///////////  /// ) )  /// ) )  /// ) /  ///_) )  /\n",
      "  ////////  /// / /  /// / /  ////////  |/ / || /  /// / /  ///////  //  / / // / /  (((_/ /////////  /// / /  /// / /  /// / ///////////  ///////  /// / /  /// / /  ////////  >\n",
      "\n",
      "((((_/ /  (((_/ /  (((_/ /  ((((_____ || // | /  (((_( (  ///////  (_  / / // / ////// / ///     _  (((_/ /  (((_( (  (((_/ /////     _  ((((___  (((_/ /  (((_/ /  ((((___  \n"
     ]
    }
   ],
   "source": [
    "s = ''\n",
    "for i, n in enumerate(ns):\n",
    "    char = cs[i - 1]\n",
    "    if char in map:\n",
    "        char = map[char]\n",
    "    s += char * n\n",
    "print(s)\n",
    "with open('test.txt', 'w') as f:\n",
    "    f.write(s)"
   ]
  },
  {
   "cell_type": "code",
   "execution_count": 38,
   "metadata": {
    "collapsed": true
   },
   "outputs": [],
   "source": [
    "import nltk\n",
    "from nltk.corpus import wordnet"
   ]
  },
  {
   "cell_type": "code",
   "execution_count": 79,
   "metadata": {
    "collapsed": true
   },
   "outputs": [],
   "source": [
    "class LanguageProcessor:\n",
    "    def __init__(self):\n",
    "        self._english_words = set(nltk.corpus.words.words())\n",
    "        \n",
    "    def _allChances(seft, characters):\n",
    "        n = len(characters)\n",
    "        if n == 1:\n",
    "            return set([characters[0]])\n",
    "        if n == 0:\n",
    "            return [\"\"]\n",
    "        chances = set([])\n",
    "\n",
    "        for i in range(n):\n",
    "            copy = characters[:]\n",
    "            c = copy[i]\n",
    "            del copy[i]\n",
    "            chances = chances.union(set([c + text for text in allChances(copy)]))\n",
    "\n",
    "        return chances\n",
    "\n",
    "    def allChances(self, text):\n",
    "        return self._allChances(list(text))\n",
    "\n",
    "    def allMeaningfulChances(self, text):\n",
    "        \n",
    "        return self.allChances(text).intersection(self._english_words)\n",
    "#         return [word for word in allChances(text) if word in self._english_words]"
   ]
  },
  {
   "cell_type": "code",
   "execution_count": 80,
   "metadata": {},
   "outputs": [],
   "source": [
    "lp = LanguageProcessor()"
   ]
  },
  {
   "cell_type": "code",
   "execution_count": 96,
   "metadata": {},
   "outputs": [
    {
     "data": {
      "text/plain": [
       "{'forget'}"
      ]
     },
     "execution_count": 96,
     "metadata": {},
     "output_type": "execute_result"
    }
   ],
   "source": [
    "lp.allMeaningfulChances('orgfte')"
   ]
  },
  {
   "cell_type": "code",
   "execution_count": 37,
   "metadata": {},
   "outputs": [
    {
     "data": {
      "text/plain": [
       "[Synset('rudiment.n.01')]"
      ]
     },
     "execution_count": 37,
     "metadata": {},
     "output_type": "execute_result"
    }
   ],
   "source": [
    "wordnet.synsets('abc')"
   ]
  },
  {
   "cell_type": "code",
   "execution_count": 28,
   "metadata": {},
   "outputs": [
    {
     "data": {
      "text/plain": [
       "['a', 'b', 'c']"
      ]
     },
     "execution_count": 28,
     "metadata": {},
     "output_type": "execute_result"
    }
   ],
   "source": [
    "list('abc')"
   ]
  },
  {
   "cell_type": "code",
   "execution_count": 69,
   "metadata": {},
   "outputs": [
    {
     "data": {
      "text/plain": [
       "{1, 2, 3, 4, 5}"
      ]
     },
     "execution_count": 69,
     "metadata": {},
     "output_type": "execute_result"
    }
   ],
   "source": [
    "set([1, 2, 3]).union([1, 4, 5])"
   ]
  },
  {
   "cell_type": "code",
   "execution_count": null,
   "metadata": {
    "collapsed": true
   },
   "outputs": [],
   "source": []
  }
 ],
 "metadata": {
  "kernelspec": {
   "display_name": "Python 3",
   "language": "python",
   "name": "python3"
  },
  "language_info": {
   "codemirror_mode": {
    "name": "ipython",
    "version": 3
   },
   "file_extension": ".py",
   "mimetype": "text/x-python",
   "name": "python",
   "nbconvert_exporter": "python",
   "pygments_lexer": "ipython3",
   "version": "3.5.2"
  }
 },
 "nbformat": 4,
 "nbformat_minor": 2
}

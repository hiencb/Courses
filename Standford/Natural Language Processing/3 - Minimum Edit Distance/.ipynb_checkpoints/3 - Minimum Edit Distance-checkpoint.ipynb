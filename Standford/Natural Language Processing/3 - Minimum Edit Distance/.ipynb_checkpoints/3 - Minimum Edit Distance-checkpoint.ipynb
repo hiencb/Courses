{
 "cells": [
  {
   "cell_type": "markdown",
   "metadata": {},
   "source": [
    "# Minimum Edit Distance"
   ]
  },
  {
   "cell_type": "markdown",
   "metadata": {},
   "source": [
    "### Defining Minimum Edit Distance\n",
    "\n",
    "* The minimum edit distance between two strings\n",
    "  * Is the minimum number of editing operations\n",
    "    * Insertion\n",
    "    * Deletion\n",
    "    * Substitution\n",
    "  * Needed to transform one into the other"
   ]
  },
  {
   "cell_type": "markdown",
   "metadata": {},
   "source": [
    "### Computing Minimum Edit Distance\n",
    "\n",
    "* Dynamic programming\n",
    "  * A tabular computation of D(n, m)\n",
    "  * Solving problems by combining solutions to subproblems\n",
    "  * Bottom up\n",
    "\n",
    "* Levenshtein algorithm\n",
    "  * Initialization\n",
    "  \n",
    "  ```\n",
    "  D(i, 0) = i\n",
    "  D(0, j) = j\n",
    "  ```\n",
    "    \n",
    "  * Recurrence relation:\n",
    "  \n",
    "  ```\n",
    "  For each i = 1...M\n",
    "      For each j = 1...N\n",
    "          diff = 0 if X(i) == Y(j) else 2\n",
    "          d1 = D(i - 1, j) + 1\n",
    "          d2 = D(i, j - 1) + 1\n",
    "          d3 = D(i - 1, j - 1) + diff\n",
    "          D(i, j) = min(d1, d2, d3)\n",
    "  ```\n",
    "\n",
    "  * Termination: D(M, N) is distance"
   ]
  },
  {
   "cell_type": "markdown",
   "metadata": {},
   "source": [
    "**Algorithm Implementation**"
   ]
  },
  {
   "cell_type": "code",
   "execution_count": 10,
   "metadata": {
    "collapsed": true
   },
   "outputs": [],
   "source": [
    "import numpy as np"
   ]
  },
  {
   "cell_type": "code",
   "execution_count": 52,
   "metadata": {
    "collapsed": true
   },
   "outputs": [],
   "source": [
    "def min_edit_distance(a, b):\n",
    "# Initialization:\n",
    "    m = len(a)\n",
    "    n = len(b)\n",
    "    D = np.ndarray((m + 1, n + 1), dtype=np.int32)\n",
    "    \n",
    "    for i in range(m + 1):\n",
    "        D[i, 0] = i\n",
    "        \n",
    "    for j in range(n + 1):\n",
    "        D[0, j] = j\n",
    "        \n",
    "# Recurrent relation:\n",
    "    for i in range(1, m + 1):\n",
    "        for j in range(1, n + 1):\n",
    "            diff = 0 if a[i - 1] == b[j - 1] else 2\n",
    "            d1 = D[i - 1, j] + 1\n",
    "            d2 = D[i, j - 1] + 1\n",
    "            d3 = D[i - 1, j - 1] + diff                \n",
    "            D[i, j] = min(d1, d2, d3)\n",
    "            \n",
    "# Termination:\n",
    "    return (D[m, n], D)"
   ]
  },
  {
   "cell_type": "code",
   "execution_count": 53,
   "metadata": {},
   "outputs": [
    {
     "name": "stdout",
     "output_type": "stream",
     "text": [
      "8\n"
     ]
    },
    {
     "data": {
      "text/plain": [
       "array([[ 0,  1,  2,  3,  4,  5,  6,  7,  8,  9],\n",
       "       [ 1,  2,  3,  4,  3,  4,  5,  6,  7,  8],\n",
       "       [ 2,  3,  4,  5,  4,  5,  6,  7,  8,  9],\n",
       "       [ 3,  4,  5,  6,  5,  6,  7,  8,  9, 10],\n",
       "       [ 4,  5,  6,  7,  6,  7,  8,  9, 10, 11],\n",
       "       [ 5,  6,  7,  8,  7,  8,  9, 10, 11, 12],\n",
       "       [ 6,  7,  8,  7,  8,  9,  8,  9, 10, 11],\n",
       "       [ 7,  6,  7,  8,  9, 10,  9,  8,  9, 10],\n",
       "       [ 8,  7,  8,  9, 10, 11, 10,  9,  8,  9],\n",
       "       [ 9,  8,  7,  8,  9, 10, 11, 10,  9,  8]], dtype=int32)"
      ]
     },
     "execution_count": 53,
     "metadata": {},
     "output_type": "execute_result"
    }
   ],
   "source": [
    "(med, D) = min_edit_distance('execution', 'intention')\n",
    "print(med)\n",
    "D"
   ]
  },
  {
   "cell_type": "markdown",
   "metadata": {},
   "source": [
    "### Backtrace for Computing Alignments\n",
    "\n"
   ]
  },
  {
   "cell_type": "code",
   "execution_count": 79,
   "metadata": {
    "collapsed": true
   },
   "outputs": [],
   "source": [
    "UNCHANGED = 'U'\n",
    "DELETION = 'D'\n",
    "INSERTION = 'I'\n",
    "SUBSTITUTION = 'S'\n",
    "    \n",
    "def min_edit_distance_with_backtrace(a, b):\n",
    "# Initialization:\n",
    "    m = len(a)\n",
    "    n = len(b)\n",
    "    D = np.zeros((m + 1, n + 1), dtype=np.int32)\n",
    "    P = [['.' for j in range(n + 1)] for i in range(m + 1)]\n",
    "    \n",
    "    for i in range(1, m + 1):\n",
    "        D[i, 0] = i\n",
    "        P[i][0] = a[i - 1]\n",
    "        \n",
    "    for j in range(1, n + 1):\n",
    "        D[0, j] = j\n",
    "        P[0][j] = b[j - 1]\n",
    "        \n",
    "# Recurrent relation:\n",
    "    for i in range(1, m + 1):\n",
    "        for j in range(1, n + 1):\n",
    "            if a[i - 1] == b [j - 1]:\n",
    "                diff = 0\n",
    "                change = UNCHANGED\n",
    "            else:\n",
    "                diff = 2\n",
    "                change = SUBSTITUTION\n",
    "                \n",
    "            d = D[i - 1, j - 1] + diff\n",
    "            d1 = D[i - 1, j] + 1\n",
    "            if d1 < d:\n",
    "                d = d1\n",
    "                change = DELETION\n",
    "                \n",
    "            d2 = D[i, j - 1] + 1\n",
    "            if d2 < d:\n",
    "                d = d2\n",
    "                change = INSERTION\n",
    "          \n",
    "            D[i, j] = d\n",
    "            P[i][j] = change\n",
    "            \n",
    "# Termination:\n",
    "    return (D[m, n], D, P)"
   ]
  },
  {
   "cell_type": "code",
   "execution_count": 80,
   "metadata": {},
   "outputs": [
    {
     "name": "stdout",
     "output_type": "stream",
     "text": [
      "8\n",
      "[[ 0  1  2  3  4  5  6  7  8  9]\n",
      " [ 1  2  3  4  3  4  5  6  7  8]\n",
      " [ 2  3  4  5  4  5  6  7  8  9]\n",
      " [ 3  4  5  6  5  6  7  8  9 10]\n",
      " [ 4  5  6  7  6  7  8  9 10 11]\n",
      " [ 5  6  7  8  7  8  9 10 11 12]\n",
      " [ 6  7  8  7  8  9  8  9 10 11]\n",
      " [ 7  6  7  8  9 10  9  8  9 10]\n",
      " [ 8  7  8  9 10 11 10  9  8  9]\n",
      " [ 9  8  7  8  9 10 11 10  9  8]]\n"
     ]
    },
    {
     "data": {
      "text/plain": [
       "[['.', 'I', 'N', 'T', 'E', 'N', 'T', 'I', 'O', 'N'],\n",
       " ['E', 'S', 'S', 'S', 'U', 'I', 'I', 'I', 'I', 'I'],\n",
       " ['X', 'S', 'S', 'S', 'D', 'S', 'S', 'S', 'S', 'S'],\n",
       " ['E', 'S', 'S', 'S', 'U', 'S', 'S', 'S', 'S', 'S'],\n",
       " ['C', 'S', 'S', 'S', 'D', 'S', 'S', 'S', 'S', 'S'],\n",
       " ['U', 'S', 'S', 'S', 'D', 'S', 'S', 'S', 'S', 'S'],\n",
       " ['T', 'S', 'S', 'U', 'D', 'S', 'U', 'I', 'I', 'I'],\n",
       " ['I', 'U', 'I', 'D', 'S', 'S', 'D', 'U', 'I', 'I'],\n",
       " ['O', 'D', 'S', 'S', 'S', 'S', 'D', 'D', 'U', 'I'],\n",
       " ['N', 'D', 'U', 'I', 'I', 'U', 'D', 'D', 'D', 'U']]"
      ]
     },
     "execution_count": 80,
     "metadata": {},
     "output_type": "execute_result"
    }
   ],
   "source": [
    "(med, D, P) = min_edit_distance_with_backtrace('EXECUTION', 'INTENTION')\n",
    "print(med)\n",
    "print(D)\n",
    "P"
   ]
  },
  {
   "cell_type": "markdown",
   "metadata": {},
   "source": [
    "#### Performance\n",
    "\n",
    "* Time: O(M*N)\n",
    "* Space: O(M*N)\n",
    "* Backtrace: O(n+M)"
   ]
  },
  {
   "cell_type": "markdown",
   "metadata": {
    "collapsed": true
   },
   "source": [
    "### Weighted Minimum Edit Distance\n",
    "* Confusion matrix for spelling errors\n",
    "\n",
    "![](./confusion-matrix.png)\n",
    "\n",
    "* Algorithm\n",
    "  * Initialization\n",
    "  \n",
    "  ```\n",
    "  D(0, 0) = 0\n",
    "  D(i, 0) = D(i - 1, 0) + del[x(i)]\n",
    "  D(0, j) = D(0, j - 1) + ins[y[j)]\n",
    "  ```\n",
    "    \n",
    "  * Recurrence relation:\n",
    "  \n",
    "  ```\n",
    "  For each i = 1...M\n",
    "      For each j = 1...N\n",
    "          d1 = D(i - 1, j) + del[x(i)]\n",
    "          d2 = D(i, j - 1) + ins[y(j)]\n",
    "          d3 = D(i - 1, j - 1) + sub[x(i), y(j)]\n",
    "          D(i, j) = min(d1, d2, d3)\n",
    "  ```\n",
    "\n",
    "  * Termination: D(M, N) is distance"
   ]
  },
  {
   "cell_type": "markdown",
   "metadata": {},
   "source": [
    "### Minimum Edit Distance in Computational Biology\n",
    "\n",
    "* Sequence Alignment\n",
    "  * Comparing genes or regions from different species\n",
    "    * to find important regions\n",
    "    * determine function\n",
    "    * uncover evolutionary forces\n",
    "  * Assembling fragments to sequence DNA\n",
    "  * Compare individuals to looking for mutations\n",
    "  \n",
    "\n",
    "* Alignments in two fields\n",
    "  * In Natural Language Processing: we talk about distance (minimized) and weights\n",
    "  * In Computational Biology: we talk about similarity (maximized) and scores\n",
    "\n",
    "  \n",
    "* The Needleman-Wunsch Algorithm\n",
    "  * Initialization\n",
    "  \n",
    "  ```\n",
    "  D(i, 0) = -i * d\n",
    "  D(0, j) = -j * d\n",
    "  ```\n",
    "    \n",
    "  * Recurrence relation:\n",
    "  \n",
    "  ```\n",
    "  For each i = 1...M\n",
    "      For each j = 1...N\n",
    "          d1 = D(i - 1, j) - d\n",
    "          d2 = D(i, j - 1) - d\n",
    "          d3 = D(i - 1, j - 1) + s[x(i), y(j)]\n",
    "          D(i, j) = max(d1, d2, d3)\n",
    "  ```\n",
    "\n",
    "  * Termination: D(M, N) is distance"
   ]
  }
 ],
 "metadata": {
  "kernelspec": {
   "display_name": "Python 3",
   "language": "python",
   "name": "python3"
  },
  "language_info": {
   "codemirror_mode": {
    "name": "ipython",
    "version": 3
   },
   "file_extension": ".py",
   "mimetype": "text/x-python",
   "name": "python",
   "nbconvert_exporter": "python",
   "pygments_lexer": "ipython3",
   "version": "3.5.2"
  }
 },
 "nbformat": 4,
 "nbformat_minor": 2
}

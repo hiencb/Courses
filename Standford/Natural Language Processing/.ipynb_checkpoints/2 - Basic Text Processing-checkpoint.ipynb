{
 "cells": [
  {
   "cell_type": "markdown",
   "metadata": {},
   "source": [
    "# Basic Text Processing"
   ]
  },
  {
   "cell_type": "markdown",
   "metadata": {},
   "source": [
    "### Normalization and Stemming\n",
    "\n",
    "* Case folding\n",
    "  * GOOD ~ good\n",
    "  * US &ne; us\n",
    "  \n",
    "  \n",
    "* Lemmatization\n",
    "  * am, are, is &Rarr; be\n",
    "  * car, cars, car's, cars' &Rarr; car\n",
    "  \n",
    "  \n",
    "* Morphology\n",
    "\n",
    "\n",
    "* Stemming\n",
    "  * automate(s), automatic, automation &Rarr; automat\n",
    "  * Porter's algorithm"
   ]
  },
  {
   "cell_type": "markdown",
   "metadata": {},
   "source": [
    "### Regular Expressions"
   ]
  },
  {
   "cell_type": "markdown",
   "metadata": {},
   "source": [
    "### Sentence Segmentation and Decision Trees"
   ]
  },
  {
   "cell_type": "markdown",
   "metadata": {},
   "source": [
    "### Word tokenization\n",
    "\n",
    "* Simple tokenization in UNIX\n",
    "  * Change all non-alpha to newline, sort in alphabetical order the merge and count each type\n",
    "  \n",
    "  ```shell\n",
    "  $ tc \n",
    "  ```"
   ]
  },
  {
   "cell_type": "code",
   "execution_count": null,
   "metadata": {
    "collapsed": true
   },
   "outputs": [],
   "source": []
  }
 ],
 "metadata": {
  "kernelspec": {
   "display_name": "Python 3",
   "language": "python",
   "name": "python3"
  },
  "language_info": {
   "codemirror_mode": {
    "name": "ipython",
    "version": 3
   },
   "file_extension": ".py",
   "mimetype": "text/x-python",
   "name": "python",
   "nbconvert_exporter": "python",
   "pygments_lexer": "ipython3",
   "version": "3.5.2"
  }
 },
 "nbformat": 4,
 "nbformat_minor": 2
}

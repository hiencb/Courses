{
 "cells": [
  {
   "cell_type": "markdown",
   "metadata": {},
   "source": [
    "# Introduction"
   ]
  },
  {
   "cell_type": "markdown",
   "metadata": {
    "collapsed": true
   },
   "source": [
    "### Language Technology\n",
    "\n",
    "* mostly solved:\n",
    "  * Spam detection\n",
    "  * Part-of-speech (POS) tagging\n",
    "  * Named entity recognition\n",
    "  \n",
    "  \n",
    "* making good progress:\n",
    "  * Sentiment analysis\n",
    "  * Coreference resolution\n",
    "  * Word sense disambiguation (WSD)\n",
    "  * Parsing\n",
    "  * Machine translation (MT)\n",
    "  * Information extraction (IE)\n",
    "  \n",
    "  \n",
    "* still really hard:\n",
    "  * Question answering (QA)\n",
    "  * Paraphrase\n",
    "  * Summarization\n",
    "  * Dialog"
   ]
  },
  {
   "cell_type": "markdown",
   "metadata": {},
   "source": [
    "### Why else is natural language understanding difficult?\n",
    "\n",
    "* non-standard language\n",
    "* segmentation issues\n",
    "* idioms\n",
    "* neologisms\n",
    "* world knownledge\n",
    "* tricky entity names"
   ]
  }
 ],
 "metadata": {
  "kernelspec": {
   "display_name": "Python 3",
   "language": "python",
   "name": "python3"
  },
  "language_info": {
   "codemirror_mode": {
    "name": "ipython",
    "version": 3
   },
   "file_extension": ".py",
   "mimetype": "text/x-python",
   "name": "python",
   "nbconvert_exporter": "python",
   "pygments_lexer": "ipython3",
   "version": "3.5.2"
  }
 },
 "nbformat": 4,
 "nbformat_minor": 2
}

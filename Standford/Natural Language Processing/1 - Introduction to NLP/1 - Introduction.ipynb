{
 "cells": [
  {
   "cell_type": "markdown",
   "metadata": {},
   "source": [
    "# Introduction"
   ]
  },
  {
   "cell_type": "markdown",
   "metadata": {},
   "source": [
    "- computer science + artificial intelligence + computational linguistics\n",
    "- concerned with the interactions between computers and human (natural) languages\n",
    "- involving:\n",
    "  - natural language understanding\n",
    "  - natural language generation\n",
    "  - connecting language and machine perception\n",
    "  - managing human-computer dialog systems\n",
    "\n",
    "> *“The goal of this new field is to get computers to perform useful tasks involving human language, tasks like enabling human-machine communication, improving human-human communication, or simply doing useful processing of text or speech.”*\n",
    "(Jurafsky, Manning 2011)"
   ]
  },
  {
   "cell_type": "markdown",
   "metadata": {
    "collapsed": true
   },
   "source": [
    "### Language Technology\n",
    "\n",
    "* mostly solved:\n",
    "  * Spam detection\n",
    "  * Part-of-speech (POS) tagging\n",
    "  * Named entity recognition\n",
    "  \n",
    "  \n",
    "* making good progress:\n",
    "  * Sentiment analysis\n",
    "  * Coreference resolution\n",
    "  * Word sense disambiguation (WSD)\n",
    "  * Parsing\n",
    "  * Machine translation (MT)\n",
    "  * Information extraction (IE)\n",
    "  \n",
    "  \n",
    "* still really hard:\n",
    "  * Question answering (QA)\n",
    "  * Paraphrase\n",
    "  * Summarization\n",
    "  * Dialog"
   ]
  },
  {
   "cell_type": "markdown",
   "metadata": {},
   "source": [
    "### Why else is natural language understanding difficult?\n",
    "\n",
    "* non-standard language\n",
    "* segmentation issues\n",
    "* idioms\n",
    "* neologisms\n",
    "* world knownledge\n",
    "* tricky entity names"
   ]
  },
  {
   "cell_type": "markdown",
   "metadata": {},
   "source": [
    "## References\n",
    "\n",
    "- ./1 - Introduction.pdf\n",
    "- https://en.wikipedia.org/wiki/Natural_language_processing\n",
    "- https://en.wikipedia.org/wiki/Outline_of_natural_language_processing#Natural_language_processing_tools"
   ]
  },
  {
   "cell_type": "code",
   "execution_count": null,
   "metadata": {
    "collapsed": true
   },
   "outputs": [],
   "source": []
  }
 ],
 "metadata": {
  "kernelspec": {
   "display_name": "Python 3",
   "language": "python",
   "name": "python3"
  },
  "language_info": {
   "codemirror_mode": {
    "name": "ipython",
    "version": 3
   },
   "file_extension": ".py",
   "mimetype": "text/x-python",
   "name": "python",
   "nbconvert_exporter": "python",
   "pygments_lexer": "ipython3",
   "version": "3.5.2"
  }
 },
 "nbformat": 4,
 "nbformat_minor": 2
}

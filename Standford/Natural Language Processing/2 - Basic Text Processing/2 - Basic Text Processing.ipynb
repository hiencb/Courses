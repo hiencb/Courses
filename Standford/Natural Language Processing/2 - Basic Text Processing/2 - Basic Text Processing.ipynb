{
 "cells": [
  {
   "cell_type": "markdown",
   "metadata": {},
   "source": [
    "# Basic Text Processing"
   ]
  },
  {
   "cell_type": "markdown",
   "metadata": {},
   "source": [
    "### Regular Expressions"
   ]
  },
  {
   "cell_type": "markdown",
   "metadata": {},
   "source": [
    "### Word tokenization\n",
    "\n",
    "* Simple tokenization in UNIX\n",
    "  * Change all non-alpha to newline, sort in alphabetical order the merge and count each type\n",
    "  \n",
    "  ```shell\n",
    "  $ tr -sc 'A-Za-z' '\\n' < shakes.txt | sort | uniq -c | less\n",
    "  ```\n",
    "\n",
    "  * With merging upper case and lower case and sorting the counts\n",
    "  \n",
    "  ```shell\n",
    "  $ tr 'A-Z' 'a-z' < shakes.txt | tr -sc 'A-Za-z' '\\n' | sort | uniq -c | sort -n -r | less\n",
    "  ```\n",
    "\n",
    "* Issues in tokenization\n",
    "  * Finland's capital &Rarr; Finland, Finlands or Finland's ?\n",
    "  * what're, I'm, isn't &Rarr; what are, I am, is not\n",
    "  * state-of-the-art &Rarr; state of the art ?\n",
    "  * San Francisco &Rarr; one token or two ?\n",
    "  * PhD, m.p.h &Rarr; ??"
   ]
  },
  {
   "cell_type": "markdown",
   "metadata": {},
   "source": [
    "### Normalization and Stemming\n",
    "\n",
    "* Case folding\n",
    "  * Reduce all letters to lower case in IR\n",
    "    * GOOD ~ good\n",
    "    * Possible exception: upper case in mid-sentence\n",
    "      * General Motors\n",
    "      * Fed &ne; fed\n",
    "      * SAIL &ne; sail\n",
    "  * In sentiment analysis, MT, information extraction case is helpful\n",
    "    * US &ne; us\n",
    "  \n",
    "  \n",
    "* Lemmatization\n",
    "  * Reduce inflections or variant forms to base form\n",
    "    * am, are, is &Rarr; be\n",
    "    * car, cars, car's, cars' &Rarr; car\n",
    "  * Have to find correct dictionary headword form\n",
    "  \n",
    "  \n",
    "* Morphology\n",
    "  * Morphemes: the small meaningful units that make up words\n",
    "    * Stems: the core meaning-bearing units: happy, kind\n",
    "    * Affixes: bits and pieces that adhere to stems\n",
    "      * Prefixes: un- (unhappy, unkind)\n",
    "      * Suffixes: -tion, -ation, -ible, -ing, -ed, -s\n",
    "\n",
    "\n",
    "* Stemming\n",
    "  * Reduce terms to their stems in IR\n",
    "  * Crude chopping of affixes\n",
    "    * automate(s), automatic, automation &Rarr; automat\n",
    "  * Porter's algorithm\n",
    "  * Only strip -ing if there is a vowel\n",
    "    * All words that have ing at the end\n",
    "    ```shell\n",
    "    $ tr -sc 'A-Za-z' '\\n' < shakes.txt | tr 'A-Z' 'a-z' | grep 'ing$' | sort | uniq -c | sort -n -r | less\n",
    "    ```\n",
    "    \n",
    "    * ... and have a vowel\n",
    "    ```shell\n",
    "    $ tr -sc 'A-Za-z' '\\n' < shakes.txt | tr 'A-Z' 'a-z' | grep '[aeiou].*ing$' | sort | uniq -c | sort -n -r | less\n",
    "    ```"
   ]
  },
  {
   "cell_type": "markdown",
   "metadata": {},
   "source": [
    "### Sentence Segmentation and Decision Trees\n",
    "\n",
    "* ! and ? are relatively unambiguous\n",
    "* Period \".\" is quite ambiguous\n",
    "  * Sentence boundary\n",
    "  * Abbreviations like M.D. or Sr.\n",
    "  * Floating numbers like 4.05\n",
    "* Build a binary classifier"
   ]
  },
  {
   "cell_type": "code",
   "execution_count": null,
   "metadata": {
    "collapsed": true
   },
   "outputs": [],
   "source": []
  }
 ],
 "metadata": {
  "kernelspec": {
   "display_name": "Python 3",
   "language": "python",
   "name": "python3"
  },
  "language_info": {
   "codemirror_mode": {
    "name": "ipython",
    "version": 3
   },
   "file_extension": ".py",
   "mimetype": "text/x-python",
   "name": "python",
   "nbconvert_exporter": "python",
   "pygments_lexer": "ipython3",
   "version": "3.5.2"
  }
 },
 "nbformat": 4,
 "nbformat_minor": 2
}
